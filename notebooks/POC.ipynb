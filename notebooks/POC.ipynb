{
 "cells": [
  {
   "cell_type": "code",
   "execution_count": 1,
   "metadata": {},
   "outputs": [],
   "source": [
    "# TODO\n",
    "# Change id variable name to something else not id\n",
    "# Implement Map.remove_from_points in class Person\n",
    "# Separate class Person into PC and NPC\n",
    "# Fix / finish class Encounter"
   ]
  },
  {
   "cell_type": "code",
   "execution_count": 2,
   "metadata": {},
   "outputs": [],
   "source": [
    "from enum import Enum"
   ]
  },
  {
   "cell_type": "code",
   "execution_count": 3,
   "metadata": {},
   "outputs": [],
   "source": [
    "default_stats = {\n",
    "    'main_character': {\n",
    "        'hp': 100,\n",
    "        'mp': 100,\n",
    "        'strength': 10,\n",
    "        'defense': 10,\n",
    "        'agility': 10\n",
    "    },\n",
    "    'skeleton': {\n",
    "        'hp': 10,\n",
    "        'mp': 10,\n",
    "        'strength': 2,\n",
    "        'defense': 2,\n",
    "        'agility': 2\n",
    "    }\n",
    "}"
   ]
  },
  {
   "cell_type": "code",
   "execution_count": 4,
   "metadata": {},
   "outputs": [],
   "source": [
    "class Node:\n",
    "    def __init__(self, data):\n",
    "        self.data = data # Node Value\n",
    "        self.next = None # Next Node\n",
    "        self.prev = None # Previous Node\n",
    "\n",
    "class LinkedList:    \n",
    "    def __init__(self):\n",
    "        self.head = None # Head Node, pop from head for queue\n",
    "        self.tail = None # Tail Node, pop from tail for stack\n",
    "        self.indices = {} # Dictionary containing indices, key of id, value of node\n",
    "    \n",
    "    def printList(self):\n",
    "        temp = self.head\n",
    "        while(temp):\n",
    "            print(temp.data)\n",
    "            temp = temp.next\n",
    "\n",
    "    def push(self, node_value_to_push, curr_id):\n",
    "        curr_node = Node(node_value_to_push)\n",
    "        self.indices[curr_id] = curr_node\n",
    "        if self.tail is not None: # If one or more blocks exist in linked list, point tail to new node\n",
    "            self.tail.next = curr_node\n",
    "            if self.head.next is None: # If only one block in linked list, point head to new node\n",
    "                    self.head.next = curr_node\n",
    "        else:\n",
    "            self.head = curr_node # If tail doesn't exist, make new node the tail\n",
    "        curr_node.prev = self.tail\n",
    "        self.tail = curr_node # Make new node the tail\n",
    "\n",
    "    def pop_stack(self): # Remove last node / tail from linked list\n",
    "        self.tail = self.tail.prev\n",
    "        if self.tail is None:\n",
    "            self.head = None\n",
    "        else:\n",
    "            self.tail.next = None\n",
    "    \n",
    "    def pop_queue(self): # Remove first node / head from linked list\n",
    "        self.head = self.head.next\n",
    "        if self.head is None:\n",
    "            self.tail = None\n",
    "        else:\n",
    "            self.head.prev = None\n",
    "    \n",
    "    def pop_all(self):\n",
    "        temp = self.head\n",
    "        while(temp):\n",
    "            if temp.next is not None:\n",
    "                temp.next = temp.next.next\n",
    "            else:\n",
    "                temp = None\n",
    "                self.tail = None\n",
    "                self.head = None\n",
    "    \n",
    "    def pop_indexed_node(self, curr_id):\n",
    "        node_to_pop = self.indices[curr_id]\n",
    "        next_node = node_to_pop.next\n",
    "        prev_node = node_to_pop.prev\n",
    "        if prev_node is not None and next_node is not None: # If node that is being popped is not the head nor tail\n",
    "            print('+')\n",
    "            prev_node.next = next_node\n",
    "            next_node.prev = prev_node\n",
    "        elif next_node is None: # If node that is being popped is the last node in the LL\n",
    "            print('++')\n",
    "            self.pop_stack()\n",
    "        elif prev_node is None: # If node that is being popped is the first node in the LL\n",
    "            print('-')\n",
    "            self.pop_queue()    \n",
    "        node_to_pop = None"
   ]
  },
  {
   "cell_type": "code",
   "execution_count": 5,
   "metadata": {},
   "outputs": [],
   "source": [
    "class Point:\n",
    "    def __init__(self, point):\n",
    "        self.x = point[0]\n",
    "        self.y = point[1]\n",
    "        self.point = point\n",
    "    \n",
    "    def move_point(self, movement):\n",
    "        self.x += movement.x\n",
    "        self.y += movement.y\n",
    "        self.point = (self.x,self.y)"
   ]
  },
  {
   "cell_type": "code",
   "execution_count": 6,
   "metadata": {},
   "outputs": [
    {
     "name": "stdout",
     "output_type": "stream",
     "text": [
      "***1\n",
      "pc PointCategories.pc\n",
      "npc PointCategories.npc\n",
      "item PointCategories.item\n",
      "path PointCategories.path\n",
      "obstacle PointCategories.obstacle\n",
      "***2 <__main__.TestMapPointCategories object at 0x000001B465E04348>\n",
      "***3 <enum 'PointCategories'> None\n",
      "***4 <enum 'PointCategories'>\n"
     ]
    }
   ],
   "source": [
    "class PointCategories(Enum):\n",
    "    pc = 'playable_character'\n",
    "    npc = 'non_playable_character'\n",
    "    item = 'item'\n",
    "    path = 'path'\n",
    "    obstacle = 'obstacle'\n",
    "    \n",
    "\n",
    "# def \n",
    "test = {}\n",
    "for name, member in PointCategories.__members__.items():\n",
    "#     allPointCategories[name] = name\n",
    "    test[name] = name\n",
    "\n",
    "    \n",
    "class TestMapPointCategories:\n",
    "    def __init__(self):\n",
    "        self.pointCategories = PointCategories\n",
    "        print('***1')\n",
    "        for name, member in self.pointCategories.__members__.items():\n",
    "            print(name, member)\n",
    "            member.queue = LinkedList()\n",
    "\n",
    "test = TestMapPointCategories()\n",
    "print('***2', test)\n",
    "print('***3', test.pointCategories, test.pointCategories.pc.queue.head)\n",
    "print('***4', type(test.pointCategories.pc))"
   ]
  },
  {
   "cell_type": "code",
   "execution_count": 7,
   "metadata": {},
   "outputs": [],
   "source": [
    "class MapPointCategories:\n",
    "    def __init__(self):\n",
    "        self.pointCategories = PointCategories\n",
    "        for name, member in self.pointCategories.__members__.items():\n",
    "            member.queue = LinkedList()\n",
    "\n",
    "class MapPoint:\n",
    "    def __init__(self):            \n",
    "#         self.mapPointCategories = MapPointCategories() # object with format, self.pointCategories.pc.queue ...\n",
    "#         self.pointCategories = PointCategories()\n",
    "#         for name, member in self.pointCategories.__members__.items():\n",
    "#             member.queue = LinkedList()\n",
    "        self.pointCategories = {}\n",
    "        for name, member in PointCategories.__members__.items():\n",
    "            self.pointCategories[name] = LinkedList()\n",
    "\n",
    "class Map:        \n",
    "    def __init__(self, max_x=200, max_y=200, points={}):\n",
    "        self.max_x = max_x\n",
    "        self.max_y = max_y\n",
    "        self.points = points # Dictionary with format, {Point(n,n): self.pointCategories.pc: mapPoint.persons ..., ...}\n",
    "        print('***self.points', self.points)\n",
    "    \n",
    "    def add_to_points(self, obj_to_add):\n",
    "        curr_point = obj_to_add.curr_pos\n",
    "        curr_cat = obj_to_add.pointCategory\n",
    "        curr_id = obj_to_add.id\n",
    "        if self.points.get(curr_point.point) is None:\n",
    "            mapPoint = MapPoint()\n",
    "            self.points[curr_point.point] = mapPoint\n",
    "#         print('***1', self.points[curr_point.point].pointCategories)\n",
    "#         print('***2', self.points[curr_point.point].pointCategories.npc)\n",
    "#         print('***3', curr_cat)\n",
    "#         self.points[curr_point.point].pointCategories.curr_cat.queue.push(curr_id)\n",
    "        self.points[curr_point.point].pointCategories[curr_cat.name].push(obj_to_add, curr_id)\n",
    "    \n",
    "    def remove_from_points(self, obj_to_remove):\n",
    "        curr_point = obj_to_remove.curr_pos\n",
    "        curr_cat = obj_to_remove.pointCategory\n",
    "        curr_id = obj_to_remove.id\n",
    "        self.points[curr_point.point].pointCategories.curr_cat.queue.pop_indexed_node(curr_id)\n",
    "    \n",
    "#     def add_to_point_queue(self, obj_to_add):\n",
    "#         point_queue = LinkedList()\n",
    "#         point_queue.push(obj_to_add)\n",
    "#         curr_point = obj_to_add.curr_pos\n",
    "#         print('***add_to_point_queue', curr_point)\n",
    "#         if self.points.get(curr_point.point) is None:\n",
    "#             self.points[curr_point.point] = point_queue\n",
    "#         else:\n",
    "#             self.points[curr_point.point].push(obj_to_add)"
   ]
  },
  {
   "cell_type": "code",
   "execution_count": 8,
   "metadata": {},
   "outputs": [
    {
     "name": "stdout",
     "output_type": "stream",
     "text": [
      "***self.points {}\n"
     ]
    }
   ],
   "source": [
    "max_x = 200\n",
    "max_y = 200\n",
    "curr_points = {}\n",
    "TestMap = Map(max_x, max_y, curr_points)"
   ]
  },
  {
   "cell_type": "code",
   "execution_count": 9,
   "metadata": {},
   "outputs": [],
   "source": [
    "class Encounter:\n",
    "    def __init__(self, encounter_queue=None):\n",
    "        self.encounter_queue = encounter_queue\n",
    "    \n",
    "    def add_to_encounter_queue(self, obj_to_add):\n",
    "        self.encounter_queue.push(obj_to_add)\n",
    "    \n",
    "    def check_for_encounter(self, curr_map, person):\n",
    "        if person.curr_pos in curr_map.points:\n",
    "            self.encounter_queue = curr_map.points[person.curr_pos]\n",
    "            return True\n",
    "        else:\n",
    "            return False"
   ]
  },
  {
   "cell_type": "code",
   "execution_count": 10,
   "metadata": {},
   "outputs": [],
   "source": [
    "class Ids:\n",
    "    class CatIds:\n",
    "        def __init__(self, ids={}, max_id = 0):\n",
    "            self.max_id = max_id\n",
    "            self.ids = ids # Dictionary, key: personId, value: Person object\n",
    "\n",
    "        def add_id(self, obj_to_add):\n",
    "            curr_max_id = self.max_id\n",
    "            self.ids[curr_max_id] = obj_to_add\n",
    "            self.max_id += 1\n",
    "            return curr_max_id\n",
    "    \n",
    "    def __init__(self, pc_Ids=CatIds(), npc_Ids=CatIds(), item_Ids=CatIds(), path_Ids=CatIds(), obstacle_Ids=CatIds()):\n",
    "        self.pc_Ids = pc_Ids\n",
    "        self.npc_Ids = npc_Ids\n",
    "        self.item_Ids = item_Ids\n",
    "        self.path_Ids = path_Ids\n",
    "        self.obstacle_Ids = obstacle_Ids"
   ]
  },
  {
   "cell_type": "code",
   "execution_count": 11,
   "metadata": {},
   "outputs": [],
   "source": [
    "class Person:\n",
    "    class stats:\n",
    "        def __init__(self, curr_pos, hp, mp, strength, defense, agility):\n",
    "                self.hp = hp\n",
    "                self.mp = mp\n",
    "                self.strength = strength\n",
    "                self.defense = defense\n",
    "                self.agility = agility    \n",
    "    \n",
    "    def __init__(self, name, curr_pos, curr_map, pointCategory, ids, hp=100, mp=100, strength=10, defense=10, agility=10):\n",
    "        self.name = name\n",
    "        self.curr_pos = Point(curr_pos) # Point(n,n)\n",
    "        self.stats = self.stats(curr_pos, hp, mp, strength, defense, agility)\n",
    "        self.pointCategory = pointCategory\n",
    "        \n",
    "        # CHANGE THIS: Make separate classes for pc, npc, item, path, obstacle, etc.\n",
    "        # Can share common traits but class should be separate\n",
    "        if pointCategory == PointCategories.pc:\n",
    "            self.id = ids.pc_Ids.add_id(self)\n",
    "        elif pointCategory == PointCategories.npc:\n",
    "            self.id = ids.npc_Ids.add_id(self)\n",
    "        print(self.pointCategory)\n",
    "        curr_map.add_to_points(self)\n",
    "        \n",
    "    def move_spaces(self, movement, curr_map):\n",
    "        movement = Point(movement)\n",
    "        self.curr_pos.move_point(movement)\n",
    "        curr_map.add_to_points(self)\n",
    "        curr_map.remove_from_points(self)\n",
    "        print('***move_spaces', self.curr_pos.point, curr_map.points)\n",
    "        if self.non_pc: # Check for encounter if person is not a pc\n",
    "            curr_encounter = Encounter()\n",
    "            if curr_encounter.check_for_encounter(curr_map, self):\n",
    "                return True\n",
    "            else:\n",
    "                return False"
   ]
  },
  {
   "cell_type": "code",
   "execution_count": 12,
   "metadata": {},
   "outputs": [],
   "source": [
    "def create_default_person(name, starting_pos, char_type, curr_map, pointCategory, ids):\n",
    "    def_stats = default_stats[char_type]\n",
    "    person = Person(name, starting_pos, curr_map, pointCategory, ids, def_stats['hp'], def_stats['mp'], \n",
    "                    def_stats['strength'], def_stats['defense'], def_stats['agility'])\n",
    "    return person"
   ]
  },
  {
   "cell_type": "code",
   "execution_count": 13,
   "metadata": {},
   "outputs": [
    {
     "name": "stdout",
     "output_type": "stream",
     "text": [
      "***self.points {}\n"
     ]
    }
   ],
   "source": [
    "# Generate Map Size\n",
    "max_x = 200\n",
    "max_y = 200\n",
    "curr_points = {}\n",
    "WorldMap = Map(max_x, max_y, curr_points)"
   ]
  },
  {
   "cell_type": "code",
   "execution_count": 14,
   "metadata": {},
   "outputs": [],
   "source": [
    "# Initialize PersonIds object\n",
    "# curr_pc_Ids = {}\n",
    "# curr_npc_Ids = {}\n",
    "# curr_item_Ids = {}\n",
    "# curr_path_Ids = {}\n",
    "# curr_obstacle_Ids = {}\n",
    "\n",
    "# Object holding all ids with separate categories\n",
    "ids = Ids()"
   ]
  },
  {
   "cell_type": "code",
   "execution_count": 15,
   "metadata": {},
   "outputs": [
    {
     "name": "stdout",
     "output_type": "stream",
     "text": [
      "PointCategories.npc\n"
     ]
    },
    {
     "data": {
      "text/plain": [
       "(101, 101)"
      ]
     },
     "execution_count": 15,
     "metadata": {},
     "output_type": "execute_result"
    }
   ],
   "source": [
    "# Populate Map with Enemies\n",
    "\n",
    "# Create a Skeleton in point(101,101)\n",
    "starting_pos = (101,101)\n",
    "pointCategory = PointCategories.npc\n",
    "name = 'Skelly'\n",
    "skeleton = create_default_person(name, starting_pos, 'skeleton', WorldMap, pointCategory, ids)\n",
    "skeleton.curr_pos.point"
   ]
  },
  {
   "cell_type": "code",
   "execution_count": 17,
   "metadata": {},
   "outputs": [
    {
     "name": "stdout",
     "output_type": "stream",
     "text": [
      "PointCategories.pc\n"
     ]
    },
    {
     "data": {
      "text/plain": [
       "(100, 100)"
      ]
     },
     "execution_count": 17,
     "metadata": {},
     "output_type": "execute_result"
    }
   ],
   "source": [
    "# Create Main Character\n",
    "starting_pos = (100,100)\n",
    "pointCategory = PointCategories.pc\n",
    "name = 'Danny'\n",
    "main_char = create_default_person(name, starting_pos, 'main_character', WorldMap, pointCategory, ids)\n",
    "main_char.curr_pos.point"
   ]
  },
  {
   "cell_type": "code",
   "execution_count": 18,
   "metadata": {},
   "outputs": [
    {
     "ename": "AttributeError",
     "evalue": "'dict' object has no attribute 'curr_cat'",
     "output_type": "error",
     "traceback": [
      "\u001b[1;31m---------------------------------------------------------------------------\u001b[0m",
      "\u001b[1;31mAttributeError\u001b[0m                            Traceback (most recent call last)",
      "\u001b[1;32m<ipython-input-18-9174041f8557>\u001b[0m in \u001b[0;36m<module>\u001b[1;34m\u001b[0m\n\u001b[0;32m      2\u001b[0m \u001b[1;31m# Right now, movement is working, next step is to build the Encounter class\u001b[0m\u001b[1;33m\u001b[0m\u001b[1;33m\u001b[0m\u001b[1;33m\u001b[0m\u001b[0m\n\u001b[0;32m      3\u001b[0m \u001b[0mmovement\u001b[0m \u001b[1;33m=\u001b[0m \u001b[1;33m(\u001b[0m\u001b[1;36m1\u001b[0m\u001b[1;33m,\u001b[0m\u001b[1;36m1\u001b[0m\u001b[1;33m)\u001b[0m \u001b[1;31m# Can move in 8 ways, diagonally (4) and up/down left/right (4)\u001b[0m\u001b[1;33m\u001b[0m\u001b[1;33m\u001b[0m\u001b[0m\n\u001b[1;32m----> 4\u001b[1;33m \u001b[0mis_encounter\u001b[0m \u001b[1;33m=\u001b[0m \u001b[0mmain_char\u001b[0m\u001b[1;33m.\u001b[0m\u001b[0mmove_spaces\u001b[0m\u001b[1;33m(\u001b[0m\u001b[0mmovement\u001b[0m\u001b[1;33m,\u001b[0m \u001b[0mWorldMap\u001b[0m\u001b[1;33m)\u001b[0m\u001b[1;33m\u001b[0m\u001b[1;33m\u001b[0m\u001b[0m\n\u001b[0m\u001b[0;32m      5\u001b[0m \u001b[0mprint\u001b[0m\u001b[1;33m(\u001b[0m\u001b[0mmain_char\u001b[0m\u001b[1;33m.\u001b[0m\u001b[0mcurr_pos\u001b[0m\u001b[1;33m.\u001b[0m\u001b[0mpoint\u001b[0m\u001b[1;33m)\u001b[0m\u001b[1;33m\u001b[0m\u001b[1;33m\u001b[0m\u001b[0m\n\u001b[0;32m      6\u001b[0m \u001b[1;32mif\u001b[0m \u001b[0mis_encounter\u001b[0m\u001b[1;33m:\u001b[0m\u001b[1;33m\u001b[0m\u001b[1;33m\u001b[0m\u001b[0m\n",
      "\u001b[1;32m<ipython-input-11-da511a08de67>\u001b[0m in \u001b[0;36mmove_spaces\u001b[1;34m(self, movement, curr_map)\u001b[0m\n\u001b[0;32m     27\u001b[0m         \u001b[0mself\u001b[0m\u001b[1;33m.\u001b[0m\u001b[0mcurr_pos\u001b[0m\u001b[1;33m.\u001b[0m\u001b[0mmove_point\u001b[0m\u001b[1;33m(\u001b[0m\u001b[0mmovement\u001b[0m\u001b[1;33m)\u001b[0m\u001b[1;33m\u001b[0m\u001b[1;33m\u001b[0m\u001b[0m\n\u001b[0;32m     28\u001b[0m         \u001b[0mcurr_map\u001b[0m\u001b[1;33m.\u001b[0m\u001b[0madd_to_points\u001b[0m\u001b[1;33m(\u001b[0m\u001b[0mself\u001b[0m\u001b[1;33m)\u001b[0m\u001b[1;33m\u001b[0m\u001b[1;33m\u001b[0m\u001b[0m\n\u001b[1;32m---> 29\u001b[1;33m         \u001b[0mcurr_map\u001b[0m\u001b[1;33m.\u001b[0m\u001b[0mremove_from_points\u001b[0m\u001b[1;33m(\u001b[0m\u001b[0mself\u001b[0m\u001b[1;33m)\u001b[0m\u001b[1;33m\u001b[0m\u001b[1;33m\u001b[0m\u001b[0m\n\u001b[0m\u001b[0;32m     30\u001b[0m         \u001b[0mprint\u001b[0m\u001b[1;33m(\u001b[0m\u001b[1;34m'***move_spaces'\u001b[0m\u001b[1;33m,\u001b[0m \u001b[0mself\u001b[0m\u001b[1;33m.\u001b[0m\u001b[0mcurr_pos\u001b[0m\u001b[1;33m.\u001b[0m\u001b[0mpoint\u001b[0m\u001b[1;33m,\u001b[0m \u001b[0mcurr_map\u001b[0m\u001b[1;33m.\u001b[0m\u001b[0mpoints\u001b[0m\u001b[1;33m)\u001b[0m\u001b[1;33m\u001b[0m\u001b[1;33m\u001b[0m\u001b[0m\n\u001b[0;32m     31\u001b[0m         \u001b[1;32mif\u001b[0m \u001b[0mself\u001b[0m\u001b[1;33m.\u001b[0m\u001b[0mnon_pc\u001b[0m\u001b[1;33m:\u001b[0m \u001b[1;31m# Check for encounter if person is not a pc\u001b[0m\u001b[1;33m\u001b[0m\u001b[1;33m\u001b[0m\u001b[0m\n",
      "\u001b[1;32m<ipython-input-7-b69cf050d71d>\u001b[0m in \u001b[0;36mremove_from_points\u001b[1;34m(self, obj_to_remove)\u001b[0m\n\u001b[0;32m     39\u001b[0m         \u001b[0mcurr_cat\u001b[0m \u001b[1;33m=\u001b[0m \u001b[0mobj_to_remove\u001b[0m\u001b[1;33m.\u001b[0m\u001b[0mpointCategory\u001b[0m\u001b[1;33m\u001b[0m\u001b[1;33m\u001b[0m\u001b[0m\n\u001b[0;32m     40\u001b[0m         \u001b[0mcurr_id\u001b[0m \u001b[1;33m=\u001b[0m \u001b[0mobj_to_remove\u001b[0m\u001b[1;33m.\u001b[0m\u001b[0mid\u001b[0m\u001b[1;33m\u001b[0m\u001b[1;33m\u001b[0m\u001b[0m\n\u001b[1;32m---> 41\u001b[1;33m         \u001b[0mself\u001b[0m\u001b[1;33m.\u001b[0m\u001b[0mpoints\u001b[0m\u001b[1;33m[\u001b[0m\u001b[0mcurr_point\u001b[0m\u001b[1;33m.\u001b[0m\u001b[0mpoint\u001b[0m\u001b[1;33m]\u001b[0m\u001b[1;33m.\u001b[0m\u001b[0mpointCategories\u001b[0m\u001b[1;33m.\u001b[0m\u001b[0mcurr_cat\u001b[0m\u001b[1;33m.\u001b[0m\u001b[0mqueue\u001b[0m\u001b[1;33m.\u001b[0m\u001b[0mpop_indexed_node\u001b[0m\u001b[1;33m(\u001b[0m\u001b[0mcurr_id\u001b[0m\u001b[1;33m)\u001b[0m\u001b[1;33m\u001b[0m\u001b[1;33m\u001b[0m\u001b[0m\n\u001b[0m\u001b[0;32m     42\u001b[0m \u001b[1;33m\u001b[0m\u001b[0m\n\u001b[0;32m     43\u001b[0m \u001b[1;31m#     def add_to_point_queue(self, obj_to_add):\u001b[0m\u001b[1;33m\u001b[0m\u001b[1;33m\u001b[0m\u001b[1;33m\u001b[0m\u001b[0m\n",
      "\u001b[1;31mAttributeError\u001b[0m: 'dict' object has no attribute 'curr_cat'"
     ]
    }
   ],
   "source": [
    "# Test Move Character to Skeleton\n",
    "# Right now, movement is working, next step is to build the Encounter class\n",
    "movement = (1,1) # Can move in 8 ways, diagonally (4) and up/down left/right (4)\n",
    "is_encounter = main_char.move_spaces(movement, WorldMap)\n",
    "print(main_char.curr_pos.point)\n",
    "if is_encounter:\n",
    "    print('ENCOUNTER')"
   ]
  },
  {
   "cell_type": "code",
   "execution_count": 186,
   "metadata": {},
   "outputs": [
    {
     "name": "stdout",
     "output_type": "stream",
     "text": [
      "(101, 101)\n",
      "<__main__.Person object at 0x000001DDB7945A08>\n",
      "(100, 100)\n",
      "<__main__.Person object at 0x000001DDB7A5ACC8>\n"
     ]
    }
   ],
   "source": [
    "for key in WorldMap.points.keys():\n",
    "    print(key)\n",
    "    WorldMap.points[key].printList()"
   ]
  },
  {
   "cell_type": "code",
   "execution_count": 135,
   "metadata": {},
   "outputs": [
    {
     "name": "stdout",
     "output_type": "stream",
     "text": [
      "<bound method LinkedList.printList of <__main__.LinkedList object at 0x000001DDB6A9D1C8>>\n"
     ]
    }
   ],
   "source": [
    "print(WorldMap.points[(101,101)].printList)"
   ]
  },
  {
   "cell_type": "code",
   "execution_count": 137,
   "metadata": {},
   "outputs": [
    {
     "data": {
      "text/plain": [
       "<__main__.Person at 0x1ddb7850748>"
      ]
     },
     "execution_count": 137,
     "metadata": {},
     "output_type": "execute_result"
    }
   ],
   "source": [
    "WorldMap.points[(101,101)].head.data"
   ]
  },
  {
   "cell_type": "code",
   "execution_count": 198,
   "metadata": {},
   "outputs": [
    {
     "name": "stdout",
     "output_type": "stream",
     "text": [
      "pc\n"
     ]
    }
   ],
   "source": [
    "print(PointCategories.pc.name)"
   ]
  },
  {
   "cell_type": "code",
   "execution_count": 200,
   "metadata": {},
   "outputs": [
    {
     "data": {
      "text/plain": [
       "<enum 'PointCategories'>"
      ]
     },
     "execution_count": 200,
     "metadata": {},
     "output_type": "execute_result"
    }
   ],
   "source": [
    "PointCategories"
   ]
  },
  {
   "cell_type": "code",
   "execution_count": null,
   "metadata": {},
   "outputs": [],
   "source": []
  }
 ],
 "metadata": {
  "kernelspec": {
   "display_name": "Python 3",
   "language": "python",
   "name": "python3"
  },
  "language_info": {
   "codemirror_mode": {
    "name": "ipython",
    "version": 3
   },
   "file_extension": ".py",
   "mimetype": "text/x-python",
   "name": "python",
   "nbconvert_exporter": "python",
   "pygments_lexer": "ipython3",
   "version": "3.7.6"
  }
 },
 "nbformat": 4,
 "nbformat_minor": 4
}
