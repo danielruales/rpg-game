{
 "cells": [
  {
   "cell_type": "code",
   "execution_count": 18,
   "metadata": {},
   "outputs": [],
   "source": [
    "# TODO\n",
    "# Change id variable name to something else not id\n",
    "# Implement Map.remove_from_points in class Person\n",
    "# Separate class Person into PC and NPC\n",
    "# Fix / finish class Encounter\n",
    "    # Got encounter working... need to add function to class Encounter to remove things from the Encounter next"
   ]
  },
  {
   "cell_type": "code",
   "execution_count": 19,
   "metadata": {},
   "outputs": [],
   "source": [
    "from enum import Enum"
   ]
  },
  {
   "cell_type": "code",
   "execution_count": 315,
   "metadata": {},
   "outputs": [],
   "source": [
    "default_stats = {\n",
    "    'main_character': {\n",
    "        'hp': 100,\n",
    "        'mp': 100,\n",
    "        'strength': 10,\n",
    "        'defense': 10,\n",
    "        'agility': 10\n",
    "    },\n",
    "    'skeleton': {\n",
    "        'hp': 10,\n",
    "        'mp': 10,\n",
    "        'strength': 2,\n",
    "        'defense': 2,\n",
    "        'agility': 2\n",
    "    }\n",
    "}"
   ]
  },
  {
   "cell_type": "code",
   "execution_count": 316,
   "metadata": {},
   "outputs": [],
   "source": [
    "class Node:\n",
    "    def __init__(self, data):\n",
    "        self.data = data # Node Value\n",
    "        self.next = None # Next Node\n",
    "        self.prev = None # Previous Node\n",
    "\n",
    "class LinkedList:    \n",
    "    def __init__(self):\n",
    "        self.head = None # Head Node, pop from head for queue\n",
    "        self.tail = None # Tail Node, pop from tail for stack\n",
    "        self.indices = {} # Dictionary containing indices, key of id, value of node\n",
    "    \n",
    "    def printList(self):\n",
    "        temp = self.head\n",
    "        while(temp):\n",
    "            print(temp.data)\n",
    "            temp = temp.next\n",
    "\n",
    "    def create_node(self, node_value, curr_id):\n",
    "        curr_node = Node(node_value)\n",
    "        self.indices[curr_id] = curr_node\n",
    "        return curr_node\n",
    "\n",
    "    def push(self, node_value_to_push, is_ll=False, curr_id=None):\n",
    "        if not is_ll: # If node to push is not a \n",
    "            curr_node = self.create_node(node_value_to_push, curr_id)\n",
    "        else: # If node is already created and part of another LL, then keep existing links and nodes, and push this tail to the tail of new LL\n",
    "            print('***LinkedList', node_value_to_push, is_ll, curr_id)\n",
    "            curr_node = node_value_to_push\n",
    "\n",
    "        if self.tail is not None: # If one or more blocks exist in linked list, point tail to new node\n",
    "            self.tail.next = curr_node\n",
    "            if self.head.next is None: # If only one block in linked list, point head to new node\n",
    "                    self.head.next = curr_node\n",
    "        else:\n",
    "            self.head = curr_node # If tail doesn't exist, make new node the head\n",
    "        curr_node.prev = self.tail\n",
    "        self.tail = curr_node # Make new node the tail\n",
    "   \n",
    "    def pop_stack(self): # Remove last node / tail from linked list\n",
    "        self.tail = self.tail.prev\n",
    "        if self.tail is None:\n",
    "            self.head = None\n",
    "        else:\n",
    "            self.tail.next = None\n",
    "    \n",
    "    def pop_queue(self): # Remove first node / head from linked list\n",
    "        self.head = self.head.next\n",
    "        if self.head is None:\n",
    "            self.tail = None\n",
    "        else:\n",
    "            self.head.prev = None\n",
    "    \n",
    "    def pop_all(self):\n",
    "        temp = self.head\n",
    "        while(temp):\n",
    "            if temp.next is not None:\n",
    "                temp.next = temp.next.next\n",
    "            else:\n",
    "                temp = None\n",
    "                self.tail = None\n",
    "                self.head = None\n",
    "    \n",
    "    def pop_indexed_node(self, curr_id):\n",
    "        node_to_pop = self.indices[curr_id]\n",
    "        next_node = node_to_pop.next\n",
    "        prev_node = node_to_pop.prev\n",
    "        if prev_node is not None and next_node is not None: # If node that is being popped is not the head nor tail\n",
    "            print('+')\n",
    "            prev_node.next = next_node\n",
    "            next_node.prev = prev_node\n",
    "        elif next_node is None: # If node that is being popped is the last node in the LL\n",
    "            print('++')\n",
    "            self.pop_stack()\n",
    "        elif prev_node is None: # If node that is being popped is the first node in the LL\n",
    "            print('-')\n",
    "            self.pop_queue()    \n",
    "        node_to_pop = None"
   ]
  },
  {
   "cell_type": "code",
   "execution_count": 317,
   "metadata": {},
   "outputs": [],
   "source": [
    "class Point:\n",
    "    def __init__(self, point):\n",
    "        self.x = point[0]\n",
    "        self.y = point[1]\n",
    "        self.point = point\n",
    "    \n",
    "    def move_point(self, movement):\n",
    "        self.x += movement.x\n",
    "        self.y += movement.y\n",
    "        self.point = (self.x,self.y)"
   ]
  },
  {
   "cell_type": "code",
   "execution_count": 318,
   "metadata": {},
   "outputs": [
    {
     "output_type": "stream",
     "name": "stdout",
     "text": [
      "***1\npc PointCategories.pc\nnpc PointCategories.npc\nitem PointCategories.item\npath PointCategories.path\nobstacle PointCategories.obstacle\n***2 <__main__.TestMapPointCategories object at 0x0000024781152088>\n***3 <enum 'PointCategories'> None\n***4 <enum 'PointCategories'>\n"
     ]
    }
   ],
   "source": [
    "class PointCategories(Enum):\n",
    "    pc = 'playable_character'\n",
    "    npc = 'non_playable_character'\n",
    "    item = 'item'\n",
    "    path = 'path'\n",
    "    obstacle = 'obstacle'\n",
    "    \n",
    "\n",
    "# def \n",
    "test = {}\n",
    "for name, member in PointCategories.__members__.items():\n",
    "#     allPointCategories[name] = name\n",
    "    test[name] = name\n",
    "\n",
    "    \n",
    "class TestMapPointCategories:\n",
    "    def __init__(self):\n",
    "        self.pointCategories = PointCategories\n",
    "        print('***1')\n",
    "        for name, member in self.pointCategories.__members__.items():\n",
    "            print(name, member)\n",
    "            member.queue = LinkedList()\n",
    "\n",
    "test = TestMapPointCategories()\n",
    "print('***2', test)\n",
    "print('***3', test.pointCategories, test.pointCategories.pc.queue.head)\n",
    "print('***4', type(test.pointCategories.pc))"
   ]
  },
  {
   "cell_type": "code",
   "execution_count": 319,
   "metadata": {},
   "outputs": [],
   "source": [
    "class Ids:\n",
    "    class CatIds:\n",
    "        def __init__(self, ids=None, max_id = 0):\n",
    "            self.max_id = max_id\n",
    "            self.ids = ids # Dictionary, key: personId, value: Person object\n",
    "\n",
    "        def add_id(self, obj_to_add):\n",
    "            curr_max_id = self.max_id\n",
    "            if type(self.ids) is not dict:\n",
    "                self.ids = {}\n",
    "            self.ids[curr_max_id] = obj_to_add\n",
    "            self.max_id += 1\n",
    "            return curr_max_id\n",
    "    \n",
    "    def __init__(self):\n",
    "        self.pc_Ids = self.CatIds()\n",
    "        self.npc_Ids = self.CatIds()\n",
    "        self.item_Ids = self.CatIds()\n",
    "        self.path_Ids = self.CatIds()\n",
    "        self.obstacle_Ids = self.CatIds()"
   ]
  },
  {
   "cell_type": "code",
   "execution_count": 334,
   "metadata": {},
   "outputs": [],
   "source": [
    "class PointCategoriesObj:\n",
    "    def __init__(self):\n",
    "        # self.pointCategories = PointCategories\n",
    "        # for name, member in self.pointCategories.__members__.items():\n",
    "        #     member.queue = LinkedList()\n",
    "        self.pointCategories = {}\n",
    "        for name, member in PointCategories.__members__.items():\n",
    "            self.pointCategories[name] = LinkedList()\n",
    "    \n",
    "    def add_to_pointCategories(self, dict_to_add): # Use this when adding to the LL in pointCategories, and not replacing\n",
    "        for name, member in PointCategories.__members__.items():\n",
    "            print('***add_to_pointCategories', name, dict_to_add[name].head, dict_to_add[name].tail)\n",
    "            curr_tail = dict_to_add[name].tail\n",
    "            if curr_tail is not None:\n",
    "                self.pointCategories[name].push(dict_to_add[name].tail, is_ll=True)\n",
    "\n",
    "class Map:        \n",
    "    def __init__(self, max_x=200, max_y=200, points={}):\n",
    "        self.max_x = max_x\n",
    "        self.max_y = max_y\n",
    "        self.points = points # Dictionary with format, {Point(n,n): self.pointCategories.pc: mapPoint.persons ..., ...}\n",
    "        print('***self.points', self.points)\n",
    "    \n",
    "    def add_to_points(self, obj_to_add):\n",
    "        curr_point = obj_to_add.curr_pos\n",
    "        curr_cat = obj_to_add.pointCategory\n",
    "        curr_id = obj_to_add.id\n",
    "        if self.points.get(curr_point.point) is None:\n",
    "            mapPoint = PointCategoriesObj()\n",
    "            self.points[curr_point.point] = mapPoint\n",
    "        print('***add_to_points', curr_point.point, curr_cat.name, curr_id)\n",
    "        self.points[curr_point.point].pointCategories[curr_cat.name].push(obj_to_add, curr_id=curr_id)\n",
    "    \n",
    "    def remove_from_points(self, obj_to_remove):\n",
    "        curr_point = obj_to_remove.curr_pos\n",
    "        curr_cat = obj_to_remove.pointCategory\n",
    "        curr_id = obj_to_remove.id\n",
    "        self.points[curr_point.point].pointCategories[curr_cat.name].pop_indexed_node(curr_id)\n",
    "    \n",
    "#     def add_to_point_queue(self, obj_to_add):\n",
    "#         point_queue = LinkedList()\n",
    "#         point_queue.push(obj_to_add)\n",
    "#         curr_point = obj_to_add.curr_pos\n",
    "#         print('***add_to_point_queue', curr_point)\n",
    "#         if self.points.get(curr_point.point) is None:\n",
    "#             self.points[curr_point.point] = point_queue\n",
    "#         else:\n",
    "#             self.points[curr_point.point].push(obj_to_add)"
   ]
  },
  {
   "cell_type": "code",
   "execution_count": 335,
   "metadata": {},
   "outputs": [
    {
     "output_type": "execute_result",
     "data": {
      "text/plain": [
       "<__main__.Node at 0x24780d54dc8>"
      ]
     },
     "metadata": {},
     "execution_count": 335
    }
   ],
   "source": [
    "WorldMap.points[(101,101)].pointCategories[PointCategories.npc.name].head"
   ]
  },
  {
   "cell_type": "code",
   "execution_count": 336,
   "metadata": {},
   "outputs": [
    {
     "output_type": "execute_result",
     "data": {
      "text/plain": [
       "<__main__.Node at 0x24781058708>"
      ]
     },
     "metadata": {},
     "execution_count": 336
    }
   ],
   "source": [
    "WorldMap.points[(101,101)].pointCategories[PointCategories.pc.name].head"
   ]
  },
  {
   "cell_type": "code",
   "execution_count": 337,
   "metadata": {},
   "outputs": [
    {
     "output_type": "execute_result",
     "data": {
      "text/plain": [
       "{0: <__main__.Person at 0x2478220b388>}"
      ]
     },
     "metadata": {},
     "execution_count": 337
    }
   ],
   "source": [
    "ids.npc_Ids.ids"
   ]
  },
  {
   "cell_type": "code",
   "execution_count": 338,
   "metadata": {},
   "outputs": [],
   "source": [
    "class Encounter:\n",
    "    def __init__(self, encounterCategories=None):\n",
    "        self.encounterCategories = PointCategoriesObj() # These will be specific to each person as it's a parameter in the person class\n",
    "    \n",
    "    def add_to_encounter(self, dict_to_add):\n",
    "        # self.encounterCategories[curr_cat].push(LL_to_add.head) # Add the head of the LL to add to the existing encounter LL\n",
    "        self.encounterCategories.add_to_pointCategories(dict_to_add)\n",
    "    \n",
    "    def check_for_encounter(self, curr_map, person):\n",
    "        curr_point = person.curr_pos.point\n",
    "        check_npc = curr_map.points.get(curr_point)\n",
    "        if curr_point in curr_map.points: # Check if pc current point is a key in the Map points dictionary and has an npc\n",
    "            # self.encounter_queue = curr_map.points[curr_point].pointCategories[PointCategories.npc.name]\n",
    "            self.add_to_encounter(curr_map.points[curr_point].pointCategories)\n",
    "            return True\n",
    "        else:\n",
    "            return False"
   ]
  },
  {
   "cell_type": "code",
   "execution_count": 339,
   "metadata": {},
   "outputs": [],
   "source": [
    "class Person:\n",
    "    class stats:\n",
    "        def __init__(self, curr_pos, hp, mp, strength, defense, agility):\n",
    "                self.hp = hp\n",
    "                self.mp = mp\n",
    "                self.strength = strength\n",
    "                self.defense = defense\n",
    "                self.agility = agility\n",
    "    \n",
    "    def __init__(self, name, curr_pos, curr_map, pointCategory, ids, hp=100, mp=100, strength=10, defense=10, agility=10, encounter=Encounter()):\n",
    "        self.name = name\n",
    "        self.curr_pos = Point(curr_pos) # Point(n,n)\n",
    "        self.stats = self.stats(curr_pos, hp, mp, strength, defense, agility)\n",
    "        self.pointCategory = pointCategory\n",
    "        self.encounter = encounter\n",
    "        \n",
    "        # CHANGE THIS: Make separate classes for pc, npc, item, path, obstacle, etc.\n",
    "        # Can share common traits but class should be separate\n",
    "        if pointCategory == PointCategories.pc:\n",
    "            self.id = ids.pc_Ids.add_id(self)\n",
    "        elif pointCategory == PointCategories.npc:\n",
    "            self.id = ids.npc_Ids.add_id(self)\n",
    "        print(self.pointCategory)\n",
    "        curr_map.add_to_points(self)\n",
    "        \n",
    "    def move_spaces(self, movement, curr_map):\n",
    "        curr_map.remove_from_points(self)\n",
    "        movement = Point(movement)\n",
    "        self.curr_pos.move_point(movement)\n",
    "        curr_map.add_to_points(self)\n",
    "        if self.pointCategory == PointCategories.pc: # Check for encounter if person is a pc\n",
    "            curr_encounter = Encounter()\n",
    "            if curr_encounter.check_for_encounter(curr_map, self):\n",
    "                return True\n",
    "            else:\n",
    "                return False"
   ]
  },
  {
   "cell_type": "code",
   "execution_count": 340,
   "metadata": {},
   "outputs": [
    {
     "output_type": "execute_result",
     "data": {
      "text/plain": [
       "0"
      ]
     },
     "metadata": {},
     "execution_count": 340
    }
   ],
   "source": [
    "main_char.id"
   ]
  },
  {
   "cell_type": "code",
   "execution_count": 341,
   "metadata": {},
   "outputs": [],
   "source": [
    "def create_default_person(name, starting_pos, char_type, curr_map, pointCategory, ids):\n",
    "    def_stats = default_stats[char_type]\n",
    "    person = Person(name, starting_pos, curr_map, pointCategory, ids, def_stats['hp'], def_stats['mp'], \n",
    "                    def_stats['strength'], def_stats['defense'], def_stats['agility'])\n",
    "    return person"
   ]
  },
  {
   "cell_type": "code",
   "execution_count": 342,
   "metadata": {},
   "outputs": [
    {
     "output_type": "stream",
     "name": "stdout",
     "text": [
      "***self.points {}\n"
     ]
    }
   ],
   "source": [
    "# Generate Map Size\n",
    "max_x = 200\n",
    "max_y = 200\n",
    "curr_points = {}\n",
    "WorldMap = Map(max_x, max_y, curr_points)"
   ]
  },
  {
   "cell_type": "code",
   "execution_count": 343,
   "metadata": {},
   "outputs": [],
   "source": [
    "# Initialize PersonIds object\n",
    "# curr_pc_Ids = {}\n",
    "# curr_npc_Ids = {}\n",
    "# curr_item_Ids = {}\n",
    "# curr_path_Ids = {}\n",
    "# curr_obstacle_Ids = {}\n",
    "\n",
    "# Object holding all ids with separate categories\n",
    "ids = Ids()\n",
    "\n",
    "# Test ids object is empty\n",
    "ids.npc_Ids.ids"
   ]
  },
  {
   "cell_type": "code",
   "execution_count": 344,
   "metadata": {},
   "outputs": [
    {
     "output_type": "stream",
     "name": "stdout",
     "text": [
      "PointCategories.npc\n***add_to_points (101, 101) npc 0\n"
     ]
    },
    {
     "output_type": "execute_result",
     "data": {
      "text/plain": [
       "(101, 101)"
      ]
     },
     "metadata": {},
     "execution_count": 344
    }
   ],
   "source": [
    "# Populate Map with Enemies\n",
    "\n",
    "# Create a Skeleton in point(101,101)\n",
    "starting_pos = (101,101)\n",
    "pointCategory = PointCategories.npc\n",
    "name = 'Skelly'\n",
    "skeleton = create_default_person(name, starting_pos, 'skeleton', WorldMap, pointCategory, ids)\n",
    "skeleton.curr_pos.point"
   ]
  },
  {
   "cell_type": "code",
   "execution_count": 345,
   "metadata": {},
   "outputs": [
    {
     "output_type": "stream",
     "name": "stdout",
     "text": [
      "PointCategories.pc\n***add_to_points (100, 100) pc 0\n"
     ]
    },
    {
     "output_type": "execute_result",
     "data": {
      "text/plain": [
       "(100, 100)"
      ]
     },
     "metadata": {},
     "execution_count": 345
    }
   ],
   "source": [
    "# Create Main Character\n",
    "starting_pos = (100,100)\n",
    "pointCategory = PointCategories.pc\n",
    "name = 'Danny'\n",
    "main_char = create_default_person(name, starting_pos, 'main_character', WorldMap, pointCategory, ids)\n",
    "main_char.curr_pos.point"
   ]
  },
  {
   "cell_type": "code",
   "execution_count": 346,
   "metadata": {},
   "outputs": [
    {
     "output_type": "stream",
     "name": "stdout",
     "text": [
      "++\n***add_to_points (101, 101) pc 0\n***add_to_pointCategories pc <__main__.Node object at 0x00000247808DCD48> <__main__.Node object at 0x00000247808DCD48>\n***LinkedList <__main__.Node object at 0x00000247808DCD48> True None\n***add_to_pointCategories npc <__main__.Node object at 0x00000247803B9B08> <__main__.Node object at 0x00000247803B9B08>\n***LinkedList <__main__.Node object at 0x00000247803B9B08> True None\n***add_to_pointCategories item None None\n***add_to_pointCategories path None None\n***add_to_pointCategories obstacle None None\n(101, 101)\nENCOUNTER\n"
     ]
    }
   ],
   "source": [
    "# Test Move Character to Skeleton\n",
    "# Right now, movement is working, next step is to build the Encounter class\n",
    "movement = (1,1) # Can move in 8 ways, diagonally (4) and up/down left/right (4)\n",
    "is_encounter = main_char.move_spaces(movement, WorldMap)\n",
    "print(main_char.curr_pos.point)\n",
    "if is_encounter:\n",
    "    print('ENCOUNTER')"
   ]
  },
  {
   "cell_type": "code",
   "execution_count": 347,
   "metadata": {},
   "outputs": [
    {
     "output_type": "stream",
     "name": "stdout",
     "text": [
      "(101, 101)\n*pc\n<__main__.Person object at 0x0000024780C4FA48>\n*npc\n<__main__.Person object at 0x00000247803B9B48>\n(100, 100)\n*pc\n*npc\n"
     ]
    }
   ],
   "source": [
    "for key in WorldMap.points.keys():\n",
    "    print(key)\n",
    "    print('*pc')\n",
    "    WorldMap.points[key].pointCategories['pc'].printList()\n",
    "    print('*npc')\n",
    "    WorldMap.points[key].pointCategories['npc'].printList()"
   ]
  },
  {
   "cell_type": "code",
   "execution_count": 357,
   "metadata": {},
   "outputs": [
    {
     "output_type": "stream",
     "name": "stdout",
     "text": [
      "pc\n"
     ]
    }
   ],
   "source": [
    "print(PointCategories.pc.name)"
   ]
  },
  {
   "cell_type": "code",
   "execution_count": null,
   "metadata": {},
   "outputs": [],
   "source": []
  }
 ],
 "metadata": {
  "kernelspec": {
   "display_name": "Python 3",
   "language": "python",
   "name": "python3"
  },
  "language_info": {
   "codemirror_mode": {
    "name": "ipython",
    "version": 3
   },
   "file_extension": ".py",
   "mimetype": "text/x-python",
   "name": "python",
   "nbconvert_exporter": "python",
   "pygments_lexer": "ipython3",
   "version": "3.7.6-final"
  }
 },
 "nbformat": 4,
 "nbformat_minor": 4
}