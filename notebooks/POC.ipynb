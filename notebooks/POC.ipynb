{
 "cells": [
  {
   "cell_type": "code",
   "execution_count": 1,
   "source": [
    "from commons import *"
   ],
   "outputs": [],
   "metadata": {}
  },
  {
   "cell_type": "code",
   "execution_count": 2,
   "source": [
    "# Generate Map Size\r\n",
    "max_x = 200\r\n",
    "max_y = 200\r\n",
    "curr_points = {}\r\n",
    "WorldMap = Map(max_x, max_y, curr_points)"
   ],
   "outputs": [
    {
     "output_type": "stream",
     "name": "stdout",
     "text": [
      "***self.points {}\n"
     ]
    }
   ],
   "metadata": {}
  },
  {
   "cell_type": "code",
   "execution_count": 3,
   "source": [
    "# Initialize PersonIds object\r\n",
    "# curr_pc_Ids = {}\r\n",
    "# curr_npc_Ids = {}\r\n",
    "# curr_item_Ids = {}\r\n",
    "# curr_path_Ids = {}\r\n",
    "# curr_obstacle_Ids = {}\r\n",
    "\r\n",
    "# Object holding all ids with separate categories\r\n",
    "ids = Ids()\r\n",
    "\r\n",
    "# Test ids object is empty\r\n",
    "ids.npc_Ids.ids"
   ],
   "outputs": [],
   "metadata": {}
  },
  {
   "cell_type": "code",
   "execution_count": 4,
   "source": [
    "# Populate Map with Enemies\r\n",
    "\r\n",
    "# Create a Skeleton in point(101,101)\r\n",
    "starting_pos = (101,101)\r\n",
    "pointCategory = PointCategories.npc\r\n",
    "name = 'Skelly'\r\n",
    "skeleton = create_default_person(name, starting_pos, 'skeleton', WorldMap, pointCategory, ids)\r\n",
    "skeleton.curr_pos.point"
   ],
   "outputs": [
    {
     "output_type": "stream",
     "name": "stdout",
     "text": [
      "PointCategories.npc\n",
      "***mapPoint <commons.PointCategoriesObj object at 0x000001534F38DB48>\n",
      "***add_to_points (101, 101) npc 0\n"
     ]
    },
    {
     "output_type": "execute_result",
     "data": {
      "text/plain": [
       "(101, 101)"
      ]
     },
     "metadata": {},
     "execution_count": 4
    }
   ],
   "metadata": {}
  },
  {
   "cell_type": "code",
   "execution_count": 5,
   "source": [
    "# Create Main Character\r\n",
    "starting_pos = (100,100)\r\n",
    "pointCategory = PointCategories.pc\r\n",
    "name = 'Danny'\r\n",
    "main_char = create_default_person(name, starting_pos, 'main_character', WorldMap, pointCategory, ids)\r\n",
    "main_char.curr_pos.point"
   ],
   "outputs": [
    {
     "output_type": "stream",
     "name": "stdout",
     "text": [
      "PointCategories.pc\n",
      "***mapPoint <commons.PointCategoriesObj object at 0x000001534F1C9CC8>\n",
      "***add_to_points (100, 100) pc 0\n"
     ]
    },
    {
     "output_type": "execute_result",
     "data": {
      "text/plain": [
       "(100, 100)"
      ]
     },
     "metadata": {},
     "execution_count": 5
    }
   ],
   "metadata": {}
  },
  {
   "cell_type": "code",
   "execution_count": 6,
   "source": [
    "# Test Move Character to Skeleton\r\n",
    "# Right now, movement is working, next step is to build the Encounter class\r\n",
    "movement = (1,1) # Can move in 8 ways, diagonally (4) and up/down left/right (4)\r\n",
    "is_encounter = main_char.move_spaces(movement, WorldMap)\r\n",
    "print(main_char.curr_pos.point)\r\n",
    "if is_encounter:\r\n",
    "    print('ENCOUNTER')"
   ],
   "outputs": [
    {
     "output_type": "stream",
     "name": "stdout",
     "text": [
      "++\n",
      "***add_to_points (101, 101) pc 0\n",
      "(101, 101)\n",
      "ENCOUNTER\n"
     ]
    }
   ],
   "metadata": {}
  },
  {
   "cell_type": "code",
   "execution_count": 7,
   "source": [
    "# print(WorldMap.points[(101,101)].pointCategories['pc'].head.data)\r\n",
    "# print(WorldMap.points[(101,101)].pointCategories['pc'].head.next)\r\n",
    "# print(WorldMap.points[(101,101)].pointCategories['pc'].head.next.next)\r\n",
    "\r\n",
    "print('***')\r\n",
    "print(WorldMap.points[(101,101)].pointCategories['npc'].head.data.id)\r\n",
    "print(WorldMap.points[(101,101)].pointCategories['npc'].head.next.data.id)\r\n",
    "print(WorldMap.points[(101,101)].pointCategories['npc'].head.next.next.data.id)\r\n",
    "print(WorldMap.points[(101,101)].pointCategories['npc'].head.next.next.next.data.id)"
   ],
   "outputs": [
    {
     "output_type": "stream",
     "name": "stdout",
     "text": [
      "***\n",
      "0\n"
     ]
    },
    {
     "output_type": "error",
     "ename": "AttributeError",
     "evalue": "'NoneType' object has no attribute 'data'",
     "traceback": [
      "\u001b[1;31m---------------------------------------------------------------------------\u001b[0m",
      "\u001b[1;31mAttributeError\u001b[0m                            Traceback (most recent call last)",
      "\u001b[1;32m<ipython-input-7-6333acfb4891>\u001b[0m in \u001b[0;36m<module>\u001b[1;34m\u001b[0m\n\u001b[0;32m      5\u001b[0m \u001b[0mprint\u001b[0m\u001b[1;33m(\u001b[0m\u001b[1;34m'***'\u001b[0m\u001b[1;33m)\u001b[0m\u001b[1;33m\u001b[0m\u001b[1;33m\u001b[0m\u001b[0m\n\u001b[0;32m      6\u001b[0m \u001b[0mprint\u001b[0m\u001b[1;33m(\u001b[0m\u001b[0mWorldMap\u001b[0m\u001b[1;33m.\u001b[0m\u001b[0mpoints\u001b[0m\u001b[1;33m[\u001b[0m\u001b[1;33m(\u001b[0m\u001b[1;36m101\u001b[0m\u001b[1;33m,\u001b[0m\u001b[1;36m101\u001b[0m\u001b[1;33m)\u001b[0m\u001b[1;33m]\u001b[0m\u001b[1;33m.\u001b[0m\u001b[0mpointCategories\u001b[0m\u001b[1;33m[\u001b[0m\u001b[1;34m'npc'\u001b[0m\u001b[1;33m]\u001b[0m\u001b[1;33m.\u001b[0m\u001b[0mhead\u001b[0m\u001b[1;33m.\u001b[0m\u001b[0mdata\u001b[0m\u001b[1;33m.\u001b[0m\u001b[0mid\u001b[0m\u001b[1;33m)\u001b[0m\u001b[1;33m\u001b[0m\u001b[1;33m\u001b[0m\u001b[0m\n\u001b[1;32m----> 7\u001b[1;33m \u001b[0mprint\u001b[0m\u001b[1;33m(\u001b[0m\u001b[0mWorldMap\u001b[0m\u001b[1;33m.\u001b[0m\u001b[0mpoints\u001b[0m\u001b[1;33m[\u001b[0m\u001b[1;33m(\u001b[0m\u001b[1;36m101\u001b[0m\u001b[1;33m,\u001b[0m\u001b[1;36m101\u001b[0m\u001b[1;33m)\u001b[0m\u001b[1;33m]\u001b[0m\u001b[1;33m.\u001b[0m\u001b[0mpointCategories\u001b[0m\u001b[1;33m[\u001b[0m\u001b[1;34m'npc'\u001b[0m\u001b[1;33m]\u001b[0m\u001b[1;33m.\u001b[0m\u001b[0mhead\u001b[0m\u001b[1;33m.\u001b[0m\u001b[0mnext\u001b[0m\u001b[1;33m.\u001b[0m\u001b[0mdata\u001b[0m\u001b[1;33m.\u001b[0m\u001b[0mid\u001b[0m\u001b[1;33m)\u001b[0m\u001b[1;33m\u001b[0m\u001b[1;33m\u001b[0m\u001b[0m\n\u001b[0m\u001b[0;32m      8\u001b[0m \u001b[0mprint\u001b[0m\u001b[1;33m(\u001b[0m\u001b[0mWorldMap\u001b[0m\u001b[1;33m.\u001b[0m\u001b[0mpoints\u001b[0m\u001b[1;33m[\u001b[0m\u001b[1;33m(\u001b[0m\u001b[1;36m101\u001b[0m\u001b[1;33m,\u001b[0m\u001b[1;36m101\u001b[0m\u001b[1;33m)\u001b[0m\u001b[1;33m]\u001b[0m\u001b[1;33m.\u001b[0m\u001b[0mpointCategories\u001b[0m\u001b[1;33m[\u001b[0m\u001b[1;34m'npc'\u001b[0m\u001b[1;33m]\u001b[0m\u001b[1;33m.\u001b[0m\u001b[0mhead\u001b[0m\u001b[1;33m.\u001b[0m\u001b[0mnext\u001b[0m\u001b[1;33m.\u001b[0m\u001b[0mnext\u001b[0m\u001b[1;33m.\u001b[0m\u001b[0mdata\u001b[0m\u001b[1;33m.\u001b[0m\u001b[0mid\u001b[0m\u001b[1;33m)\u001b[0m\u001b[1;33m\u001b[0m\u001b[1;33m\u001b[0m\u001b[0m\n\u001b[0;32m      9\u001b[0m \u001b[0mprint\u001b[0m\u001b[1;33m(\u001b[0m\u001b[0mWorldMap\u001b[0m\u001b[1;33m.\u001b[0m\u001b[0mpoints\u001b[0m\u001b[1;33m[\u001b[0m\u001b[1;33m(\u001b[0m\u001b[1;36m101\u001b[0m\u001b[1;33m,\u001b[0m\u001b[1;36m101\u001b[0m\u001b[1;33m)\u001b[0m\u001b[1;33m]\u001b[0m\u001b[1;33m.\u001b[0m\u001b[0mpointCategories\u001b[0m\u001b[1;33m[\u001b[0m\u001b[1;34m'npc'\u001b[0m\u001b[1;33m]\u001b[0m\u001b[1;33m.\u001b[0m\u001b[0mhead\u001b[0m\u001b[1;33m.\u001b[0m\u001b[0mnext\u001b[0m\u001b[1;33m.\u001b[0m\u001b[0mnext\u001b[0m\u001b[1;33m.\u001b[0m\u001b[0mnext\u001b[0m\u001b[1;33m.\u001b[0m\u001b[0mdata\u001b[0m\u001b[1;33m.\u001b[0m\u001b[0mid\u001b[0m\u001b[1;33m)\u001b[0m\u001b[1;33m\u001b[0m\u001b[1;33m\u001b[0m\u001b[0m\n",
      "\u001b[1;31mAttributeError\u001b[0m: 'NoneType' object has no attribute 'data'"
     ]
    }
   ],
   "metadata": {}
  },
  {
   "cell_type": "code",
   "execution_count": 8,
   "source": [
    "for key in WorldMap.points.keys():\r\n",
    "    print(key)\r\n",
    "    print('*pc')\r\n",
    "    WorldMap.points[key].pointCategories['pc'].printList()\r\n",
    "    print('*npc')\r\n",
    "    WorldMap.points[key].pointCategories['npc'].printList()"
   ],
   "outputs": [
    {
     "output_type": "stream",
     "name": "stdout",
     "text": [
      "(101, 101)\n",
      "*pc\n",
      "<commons.Person object at 0x000001534F387188>\n",
      "*npc\n",
      "<commons.Person object at 0x000001534F38D9C8>\n",
      "(100, 100)\n",
      "*pc\n",
      "*npc\n"
     ]
    }
   ],
   "metadata": {
    "tags": []
   }
  },
  {
   "cell_type": "code",
   "execution_count": null,
   "source": [],
   "outputs": [],
   "metadata": {}
  }
 ],
 "metadata": {
  "kernelspec": {
   "name": "python3",
   "display_name": "Python 3.7.6 64-bit ('base': conda)"
  },
  "language_info": {
   "codemirror_mode": {
    "name": "ipython",
    "version": 3
   },
   "file_extension": ".py",
   "mimetype": "text/x-python",
   "name": "python",
   "nbconvert_exporter": "python",
   "pygments_lexer": "ipython3",
   "version": "3.7.6"
  },
  "interpreter": {
   "hash": "b3ba2566441a7c06988d0923437866b63cedc61552a5af99d1f4fb67d367b25f"
  }
 },
 "nbformat": 4,
 "nbformat_minor": 4
}