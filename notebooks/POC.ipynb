{
 "cells": [
  {
   "cell_type": "code",
   "execution_count": 1,
   "metadata": {},
   "outputs": [],
   "source": [
    "# TODO\n",
    "# Change id variable name to something else not id\n",
    "# Implement Map.remove_from_points in class Person\n",
    "# Separate class Person into PC and NPC\n",
    "# Fix / finish class Encounter\n",
    "    # Got encounter working... need to add function to class Encounter to remove things from the Encounter next"
   ]
  },
  {
   "cell_type": "code",
   "execution_count": 2,
   "metadata": {},
   "outputs": [],
   "source": [
    "from enum import Enum"
   ]
  },
  {
   "cell_type": "code",
   "execution_count": 3,
   "metadata": {},
   "outputs": [],
   "source": [
    "default_stats = {\n",
    "    'main_character': {\n",
    "        'hp': 100,\n",
    "        'mp': 100,\n",
    "        'strength': 10,\n",
    "        'defense': 10,\n",
    "        'agility': 10\n",
    "    },\n",
    "    'skeleton': {\n",
    "        'hp': 10,\n",
    "        'mp': 10,\n",
    "        'strength': 2,\n",
    "        'defense': 2,\n",
    "        'agility': 2\n",
    "    }\n",
    "}"
   ]
  },
  {
   "cell_type": "code",
   "execution_count": 4,
   "metadata": {},
   "outputs": [],
   "source": [
    "class Node:\n",
    "    def __init__(self, data):\n",
    "        self.data = data # Node Value\n",
    "        self.next = None # Next Node\n",
    "        self.prev = None # Previous Node\n",
    "\n",
    "class LinkedList:    \n",
    "    def __init__(self):\n",
    "        self.head = None # Head Node, pop from head for queue\n",
    "        self.tail = None # Tail Node, pop from tail for stack\n",
    "        self.indices = {} # Dictionary containing indices, key of id, value of node\n",
    "    \n",
    "    def printList(self):\n",
    "        temp = self.head\n",
    "        while(temp):\n",
    "            print(temp.data)\n",
    "            temp = temp.next\n",
    "\n",
    "    def create_node(self, node_value, curr_id):\n",
    "        curr_node = Node(node_value)\n",
    "        self.indices[curr_id] = curr_node\n",
    "        return curr_node\n",
    "\n",
    "    def push(self, node_value_to_push, is_ll=False, curr_id=None):\n",
    "        if not is_ll: # If node to push is not a LL\n",
    "            curr_node = self.create_node(node_value_to_push, curr_id)\n",
    "        else: # If node is already created and part of another LL, then keep existing links and nodes, and push this tail to the tail of new LL\n",
    "            print('***LinkedList', node_value_to_push, is_ll, curr_id)\n",
    "            curr_node = node_value_to_push\n",
    "\n",
    "        if self.tail is not None: # If one or more blocks exist in linked list, point tail to new node\n",
    "            self.tail.next = curr_node\n",
    "            if self.head.next is None: # If only one block in linked list, point head to new node\n",
    "                    self.head.next = curr_node\n",
    "        else:\n",
    "            self.head = curr_node # If tail doesn't exist, make new node the head\n",
    "        curr_node.prev = self.tail\n",
    "        self.tail = curr_node # Make new node the tail\n",
    "   \n",
    "    def pop_stack(self): # Remove last node / tail from linked list\n",
    "        self.tail = self.tail.prev\n",
    "        if self.tail is None:\n",
    "            self.head = None\n",
    "        else:\n",
    "            self.tail.next = None\n",
    "    \n",
    "    def pop_queue(self): # Remove first node / head from linked list\n",
    "        self.head = self.head.next\n",
    "        if self.head is None:\n",
    "            self.tail = None\n",
    "        else:\n",
    "            self.head.prev = None\n",
    "    \n",
    "    def pop_all(self):\n",
    "        temp = self.head\n",
    "        while(temp):\n",
    "            if temp.next is not None:\n",
    "                temp.next = temp.next.next\n",
    "            else:\n",
    "                temp = None\n",
    "                self.tail = None\n",
    "                self.head = None\n",
    "    \n",
    "    def pop_indexed_node(self, curr_id):\n",
    "        node_to_pop = self.indices[curr_id]\n",
    "        next_node = node_to_pop.next\n",
    "        prev_node = node_to_pop.prev\n",
    "        if prev_node is not None and next_node is not None: # If node that is being popped is not the head nor tail\n",
    "            print('+')\n",
    "            prev_node.next = next_node\n",
    "            next_node.prev = prev_node\n",
    "        elif next_node is None: # If node that is being popped is the last node in the LL\n",
    "            print('++')\n",
    "            self.pop_stack()\n",
    "        elif prev_node is None: # If node that is being popped is the first node in the LL\n",
    "            print('-')\n",
    "            self.pop_queue()    \n",
    "        node_to_pop = None"
   ]
  },
  {
   "cell_type": "code",
   "execution_count": 5,
   "metadata": {},
   "outputs": [],
   "source": [
    "class Point:\n",
    "    def __init__(self, point):\n",
    "        self.x = point[0]\n",
    "        self.y = point[1]\n",
    "        self.point = point\n",
    "    \n",
    "    def move_point(self, movement):\n",
    "        self.x += movement.x\n",
    "        self.y += movement.y\n",
    "        self.point = (self.x,self.y)"
   ]
  },
  {
   "cell_type": "code",
   "execution_count": 6,
   "metadata": {},
   "outputs": [
    {
     "output_type": "stream",
     "name": "stdout",
     "text": [
      "***1\npc PointCategories.pc\nnpc PointCategories.npc\nitem PointCategories.item\npath PointCategories.path\nobstacle PointCategories.obstacle\n***2 <__main__.TestMapPointCategories object at 0x000001F6C55E1D08>\n***3 <enum 'PointCategories'> None\n***4 <enum 'PointCategories'>\n"
     ]
    }
   ],
   "source": [
    "class PointCategories(Enum):\n",
    "    pc = 'playable_character'\n",
    "    npc = 'non_playable_character'\n",
    "    item = 'item'\n",
    "    path = 'path'\n",
    "    obstacle = 'obstacle'\n",
    "    \n",
    "\n",
    "# def \n",
    "test = {}\n",
    "for name, member in PointCategories.__members__.items():\n",
    "#     allPointCategories[name] = name\n",
    "    test[name] = name\n",
    "\n",
    "    \n",
    "class TestMapPointCategories:\n",
    "    def __init__(self):\n",
    "        self.pointCategories = PointCategories\n",
    "        print('***1')\n",
    "        for name, member in self.pointCategories.__members__.items():\n",
    "            print(name, member)\n",
    "            member.queue = LinkedList()\n",
    "\n",
    "test = TestMapPointCategories()\n",
    "print('***2', test)\n",
    "print('***3', test.pointCategories, test.pointCategories.pc.queue.head)\n",
    "print('***4', type(test.pointCategories.pc))"
   ]
  },
  {
   "cell_type": "code",
   "execution_count": 7,
   "metadata": {},
   "outputs": [],
   "source": [
    "class Ids:\n",
    "    class CatIds:\n",
    "        def __init__(self, ids=None, max_id = 0):\n",
    "            self.max_id = max_id\n",
    "            self.ids = ids # Dictionary, key: personId, value: Person object\n",
    "\n",
    "        def add_id(self, obj_to_add):\n",
    "            curr_max_id = self.max_id\n",
    "            if type(self.ids) is not dict:\n",
    "                self.ids = {}\n",
    "            self.ids[curr_max_id] = obj_to_add\n",
    "            self.max_id += 1\n",
    "            return curr_max_id\n",
    "    \n",
    "    def __init__(self):\n",
    "        self.pc_Ids = self.CatIds()\n",
    "        self.npc_Ids = self.CatIds()\n",
    "        self.item_Ids = self.CatIds()\n",
    "        self.path_Ids = self.CatIds()\n",
    "        self.obstacle_Ids = self.CatIds()"
   ]
  },
  {
   "cell_type": "code",
   "execution_count": 65,
   "metadata": {},
   "outputs": [],
   "source": [
    "class PointCategoriesObj:\n",
    "    def __init__(self):\n",
    "        # self.pointCategories = PointCategories\n",
    "        # for name, member in self.pointCategories.__members__.items():\n",
    "        #     member.queue = LinkedList()\n",
    "        self.pointCategories = {}\n",
    "        for name, member in PointCategories.__members__.items():\n",
    "            self.pointCategories[name] = LinkedList()\n",
    "    \n",
    "    def add_to_pointCategories(self, dict_to_add): # Use this when adding to the LL in pointCategories, and not replacing\n",
    "        for name, member in PointCategories.__members__.items():\n",
    "            print('***add_to_pointCategories', name, dict_to_add[name].head, dict_to_add[name].tail)\n",
    "            curr_tail = dict_to_add[name].tail\n",
    "            if curr_tail is not None:\n",
    "                self.pointCategories[name].push(dict_to_add[name].tail, is_ll=True)\n",
    "\n",
    "    def remove_id_from_pointCategories(self, curr_cat, id_to_remove):\n",
    "        # curr_cat_LL = obj_to_remove.pointCategories[key]\n",
    "        # id_to_remove = obj_to_remove.id\n",
    "        curr_cat_LL = self.pointCategories[curr_cat]\n",
    "        curr_cat_LL.pop_indexed_node(id_to_remove)\n",
    "\n",
    "    def check_pointCategories_isEmpty(self):\n",
    "        isEmpty = False\n",
    "        for key, item in self.pointCategories.items(): # Check if any category is empty\n",
    "            if item is None or item == {}:\n",
    "                isEmpty = True\n",
    "                return isEmpty\n",
    "        return isEmpty\n",
    "\n",
    "class Map:        \n",
    "    def __init__(self, max_x=200, max_y=200, points={}):\n",
    "        self.max_x = max_x\n",
    "        self.max_y = max_y\n",
    "        self.points = points # Dictionary with format, {Point(n,n): self.pointCategories.pc: mapPoint.persons ..., ...}\n",
    "        print('***self.points', self.points)\n",
    "    \n",
    "    def add_to_points(self, obj_to_add):\n",
    "        curr_point = obj_to_add.curr_pos\n",
    "        curr_cat = obj_to_add.pointCategory\n",
    "        curr_id = obj_to_add.id\n",
    "        if self.points.get(curr_point.point) is None:\n",
    "            mapPoint = PointCategoriesObj()\n",
    "            print('***mapPoint', mapPoint)\n",
    "            self.points[curr_point.point] = mapPoint # Map.points[(101,101)].PointCategoriesOb()\n",
    "        print('***add_to_points', curr_point.point, curr_cat.name, curr_id)\n",
    "        self.points[curr_point.point].pointCategories[curr_cat.name].push(obj_to_add, curr_id=curr_id)\n",
    "    \n",
    "    def remove_from_points(self, obj_to_remove):\n",
    "        curr_point = obj_to_remove.curr_pos.point\n",
    "        curr_cat = obj_to_remove.pointCategory.name\n",
    "        curr_id = obj_to_remove.id\n",
    "        self.points[curr_point].remove_id_from_pointCategories(curr_cat, curr_id)\n",
    "        point_isEmpty = self.points[curr_point].check_pointCategories_isEmpty()\n",
    "        return point_isEmpty\n",
    "        \n",
    "        print('***remove_from_points_curr_point', self.points[curr_point])\n",
    "        print('***remove_from_points_pc', self.points[curr_point]['pc'])\n",
    "        print('***remove_from_points_npc', self.points[curr_point]['npc'])\n",
    "    \n",
    "#     def add_to_point_queue(self, obj_to_add):\n",
    "#         point_queue = LinkedList()\n",
    "#         point_queue.push(obj_to_add)\n",
    "#         curr_point = obj_to_add.curr_pos\n",
    "#         print('***add_to_point_queue', curr_point)\n",
    "#         if self.points.get(curr_point.point) is None:\n",
    "#             self.points[curr_point.point] = point_queue\n",
    "#         else:\n",
    "#             self.points[curr_point.point].push(obj_to_add)"
   ]
  },
  {
   "cell_type": "code",
   "execution_count": 91,
   "metadata": {},
   "outputs": [
    {
     "output_type": "stream",
     "name": "stdout",
     "text": [
      "1 888 1\n<__main__.Node object at 0x000001F6C7006DC8> None <__main__.Node object at 0x000001F6C7006DC8>\n2 2\nNone None\n***\n1 888 888\n<__main__.Node object at 0x000001F6C7006DC8> None None\n2\n"
     ]
    }
   ],
   "source": [
    "class Test1: # Map\n",
    "    def __init__(self):\n",
    "        self.a = LinkedList()\n",
    "        self.a.push(1)\n",
    "        self.x = LinkedList()\n",
    "        self.x.push(888)\n",
    "\n",
    "    def add_2(self):\n",
    "        self.a.push(2)\n",
    "\n",
    "class Test2: #Person\n",
    "    def __init__(self):\n",
    "        self.b = LinkedList()\n",
    "        self.b.push(10)\n",
    "    \n",
    "    def add_2(self):        \n",
    "        self.b += 50\n",
    "\n",
    "class Test3: # Encounter\n",
    "    def __init__(self):\n",
    "        self.c = LinkedList()\n",
    "        self.c.push(1000)\n",
    "    \n",
    "    def add_to_obj_a(self, test1Obj, test2Obj):\n",
    "        test2Obj.b = test1Obj.a\n",
    "        # test2Obj.b.push(999999)\n",
    "    \n",
    "    def add_to_obj_x(self, test1Obj, test2Obj):\n",
    "        test2Obj.b = test1Obj.x\n",
    "        # test2Obj.b.push(999999)\n",
    "\n",
    "test1 = Test1()\n",
    "test2 = Test2()\n",
    "test3 = Test3()\n",
    "\n",
    "test3.add_to_obj_a(test1, test2)\n",
    "test1.add_2()\n",
    "print(test1.a.head.data, test1.x.head.data, test2.b.head.data)\n",
    "print(test1.a.head.next, test1.x.head.next, test2.b.head.next)\n",
    "print(test1.a.head.next.data, test2.b.head.next.data)\n",
    "print(test1.a.head.next.next, test2.b.head.next.next)\n",
    "\n",
    "print('***')\n",
    "\n",
    "test3.add_to_obj_x(test1, test2)\n",
    "# test1.add_2()\n",
    "print(test1.a.head.data, test1.x.head.data, test2.b.head.data)\n",
    "print(test1.a.head.next, test1.x.head.next, test2.b.head.next)\n",
    "print(test1.a.head.next.data)\n",
    "# print(test1.a.head.next.data, test2.b.head.next.next)\n",
    "# print(test1.a.head.next.next, test2.b.head.next.next)"
   ]
  },
  {
   "cell_type": "code",
   "execution_count": 92,
   "metadata": {},
   "outputs": [],
   "source": [
    "class Encounter:\n",
    "    def __init__(self, encounterCategories=None, curr_map=None, curr_point=None):\n",
    "        # These will be specific to each person as it's a parameter in the person class\n",
    "        # self.encounterCategories = PointCategoriesObj()\n",
    "        self.encounterCategories = curr_map.points.get(curr_point) # PointCategoriesObj\n",
    "\n",
    "    def add_to_encounter(self, dict_to_add):\n",
    "        # self.encounterCategories[curr_cat].push(LL_to_add.head) # Add the head of the LL to add to the existing encounter LL\n",
    "        self.encounterCategories.add_to_pointCategories(dict_to_add)\n",
    "    \n",
    "    # TODO: Create a shared function between Map and Encounter to remove an id from the LL\n",
    "    def remove_from_encounter(self, obj_to_remove):\n",
    "        curr_point = obj_to_remove.curr_pos.point\n",
    "        curr_cat = obj_to_remove.pointCategory.name\n",
    "        curr_id = obj_to_remove.id\n",
    "        self.points[curr_point].pointCategories.remove_id_from_pointCategories(curr_cat, curr_id)\n",
    "        point_isEmpty = self.points[curr_point].pointCategories[curr_cat].check_pointCategories_isEmpty()\n",
    "        return point_isEmpty\n",
    "\n",
    "    def check_for_encounter(self, curr_map, person):\n",
    "        curr_point = person.curr_pos.point\n",
    "        person.encounter.encounterCategories = curr_map.points.get(curr_point) # Points the person.encounter.encounterCategories to curr_map.points.get(curr_point) LinkedList. This allows the encounter to always stay updated on the mapPoint.\n",
    "        # check_npc = curr_map.points.get(curr_point)\n",
    "        if curr_point in curr_map.points: # Check if pc current point is a key in the Map points dictionary\n",
    "            # person.encounter.add_to_encounter(curr_map.points[curr_point].pointCategories)\n",
    "            return True\n",
    "        else:\n",
    "            return False"
   ]
  },
  {
   "cell_type": "code",
   "execution_count": 93,
   "metadata": {},
   "outputs": [],
   "source": [
    "class Person:\n",
    "    class stats:\n",
    "        def __init__(self, curr_pos, hp, mp, strength, defense, agility):\n",
    "                self.hp = hp\n",
    "                self.mp = mp\n",
    "                self.strength = strength\n",
    "                self.defense = defense\n",
    "                self.agility = agility\n",
    "    \n",
    "    def __init__(self, name, curr_pos, curr_map, pointCategory, ids, hp=100, mp=100, strength=10, defense=10, agility=10, encounter=None):\n",
    "        self.name = name\n",
    "        self.curr_pos = Point(curr_pos) # Point(n,n)\n",
    "        curr_point = self.curr_pos.point\n",
    "        self.stats = self.stats(curr_pos, hp, mp, strength, defense, agility)\n",
    "        self.pointCategory = pointCategory\n",
    "        self.encounter = Encounter(curr_map=curr_map, curr_point=curr_point)\n",
    "        \n",
    "        # CHANGE THIS: Make separate classes for pc, npc, item, path, obstacle, etc.\n",
    "        # Can share common traits but class should be separate\n",
    "        if pointCategory == PointCategories.pc:\n",
    "            self.id = ids.pc_Ids.add_id(self)\n",
    "        elif pointCategory == PointCategories.npc:\n",
    "            self.id = ids.npc_Ids.add_id(self)\n",
    "        print(self.pointCategory)\n",
    "        curr_map.add_to_points(self)\n",
    "        \n",
    "    def move_spaces(self, movement, curr_map):\n",
    "        curr_map.remove_from_points(self)\n",
    "        movement = Point(movement)\n",
    "        self.curr_pos.move_point(movement)\n",
    "        if self.pointCategory == PointCategories.pc: # Check for encounter if person is a pc\n",
    "            # curr_encounter = Encounter()\n",
    "            self.encounter = Encounter(curr_map=curr_map, curr_point=self.curr_pos.point)\n",
    "            if self.encounter.check_for_encounter(curr_map, self):\n",
    "                curr_map.add_to_points(self)\n",
    "                return True\n",
    "            else:\n",
    "                return False"
   ]
  },
  {
   "cell_type": "code",
   "execution_count": 94,
   "metadata": {},
   "outputs": [],
   "source": [
    "def create_default_person(name, starting_pos, char_type, curr_map, pointCategory, ids):\n",
    "    def_stats = default_stats[char_type]\n",
    "    person = Person(name, starting_pos, curr_map, pointCategory, ids, def_stats['hp'], def_stats['mp'], \n",
    "                    def_stats['strength'], def_stats['defense'], def_stats['agility'])\n",
    "    return person"
   ]
  },
  {
   "cell_type": "code",
   "execution_count": 95,
   "metadata": {},
   "outputs": [
    {
     "output_type": "stream",
     "name": "stdout",
     "text": [
      "***self.points {}\n"
     ]
    }
   ],
   "source": [
    "# Generate Map Size\n",
    "max_x = 200\n",
    "max_y = 200\n",
    "curr_points = {}\n",
    "WorldMap = Map(max_x, max_y, curr_points)"
   ]
  },
  {
   "cell_type": "code",
   "execution_count": 96,
   "metadata": {},
   "outputs": [],
   "source": [
    "# Initialize PersonIds object\n",
    "# curr_pc_Ids = {}\n",
    "# curr_npc_Ids = {}\n",
    "# curr_item_Ids = {}\n",
    "# curr_path_Ids = {}\n",
    "# curr_obstacle_Ids = {}\n",
    "\n",
    "# Object holding all ids with separate categories\n",
    "ids = Ids()\n",
    "\n",
    "# Test ids object is empty\n",
    "ids.npc_Ids.ids"
   ]
  },
  {
   "cell_type": "code",
   "execution_count": 97,
   "metadata": {},
   "outputs": [
    {
     "output_type": "stream",
     "name": "stdout",
     "text": [
      "PointCategories.npc\n***mapPoint <__main__.PointCategoriesObj object at 0x000001F6C692F588>\n***add_to_points (101, 101) npc 0\n"
     ]
    },
    {
     "output_type": "execute_result",
     "data": {
      "text/plain": [
       "(101, 101)"
      ]
     },
     "metadata": {},
     "execution_count": 97
    }
   ],
   "source": [
    "# Populate Map with Enemies\n",
    "\n",
    "# Create a Skeleton in point(101,101)\n",
    "starting_pos = (101,101)\n",
    "pointCategory = PointCategories.npc\n",
    "name = 'Skelly'\n",
    "skeleton = create_default_person(name, starting_pos, 'skeleton', WorldMap, pointCategory, ids)\n",
    "skeleton.curr_pos.point"
   ]
  },
  {
   "cell_type": "code",
   "execution_count": 98,
   "metadata": {},
   "outputs": [
    {
     "output_type": "stream",
     "name": "stdout",
     "text": [
      "PointCategories.pc\n***mapPoint <__main__.PointCategoriesObj object at 0x000001F6C6BACE88>\n***add_to_points (100, 100) pc 0\n"
     ]
    },
    {
     "output_type": "execute_result",
     "data": {
      "text/plain": [
       "(100, 100)"
      ]
     },
     "metadata": {},
     "execution_count": 98
    }
   ],
   "source": [
    "# Create Main Character\n",
    "starting_pos = (100,100)\n",
    "pointCategory = PointCategories.pc\n",
    "name = 'Danny'\n",
    "main_char = create_default_person(name, starting_pos, 'main_character', WorldMap, pointCategory, ids)\n",
    "main_char.curr_pos.point"
   ]
  },
  {
   "cell_type": "code",
   "execution_count": 99,
   "metadata": {},
   "outputs": [
    {
     "output_type": "stream",
     "name": "stdout",
     "text": [
      "++\n***bug1 <__main__.Person object at 0x000001F6C56AABC8> None\n***bug2 <__main__.Person object at 0x000001F6C56AABC8> None\n***bug3 <__main__.Person object at 0x000001F6C56AABC8> None\n***bug4 <__main__.Person object at 0x000001F6C56AABC8> None\n***bug.v2.1 <__main__.Person object at 0x000001F6C56AABC8> None\n***bug.v2.2 <__main__.Person object at 0x000001F6C56AABC8> None\n***bug.v2.3 <__main__.Person object at 0x000001F6C56AABC8> None\n***bug.v2.4 <__main__.Person object at 0x000001F6C56AABC8> None\n***bug5 <__main__.Person object at 0x000001F6C56AABC8> None\n***add_to_points (101, 101) pc 0\n***bug6 <__main__.Person object at 0x000001F6C56AABC8> None\n(101, 101)\nENCOUNTER\n"
     ]
    }
   ],
   "source": [
    "# Test Move Character to Skeleton\n",
    "# Right now, movement is working, next step is to build the Encounter class\n",
    "movement = (1,1) # Can move in 8 ways, diagonally (4) and up/down left/right (4)\n",
    "is_encounter = main_char.move_spaces(movement, WorldMap)\n",
    "print(main_char.curr_pos.point)\n",
    "if is_encounter:\n",
    "    print('ENCOUNTER')"
   ]
  },
  {
   "cell_type": "code",
   "execution_count": null,
   "metadata": {},
   "outputs": [],
   "source": []
  },
  {
   "cell_type": "code",
   "execution_count": 100,
   "metadata": {},
   "outputs": [
    {
     "output_type": "stream",
     "name": "stdout",
     "text": [
      "***\n0\n"
     ]
    },
    {
     "output_type": "error",
     "ename": "AttributeError",
     "evalue": "'NoneType' object has no attribute 'data'",
     "traceback": [
      "\u001b[1;31m---------------------------------------------------------------------------\u001b[0m",
      "\u001b[1;31mAttributeError\u001b[0m                            Traceback (most recent call last)",
      "\u001b[1;32m<ipython-input-100-6333acfb4891>\u001b[0m in \u001b[0;36m<module>\u001b[1;34m\u001b[0m\n\u001b[0;32m      5\u001b[0m \u001b[0mprint\u001b[0m\u001b[1;33m(\u001b[0m\u001b[1;34m'***'\u001b[0m\u001b[1;33m)\u001b[0m\u001b[1;33m\u001b[0m\u001b[1;33m\u001b[0m\u001b[0m\n\u001b[0;32m      6\u001b[0m \u001b[0mprint\u001b[0m\u001b[1;33m(\u001b[0m\u001b[0mWorldMap\u001b[0m\u001b[1;33m.\u001b[0m\u001b[0mpoints\u001b[0m\u001b[1;33m[\u001b[0m\u001b[1;33m(\u001b[0m\u001b[1;36m101\u001b[0m\u001b[1;33m,\u001b[0m\u001b[1;36m101\u001b[0m\u001b[1;33m)\u001b[0m\u001b[1;33m]\u001b[0m\u001b[1;33m.\u001b[0m\u001b[0mpointCategories\u001b[0m\u001b[1;33m[\u001b[0m\u001b[1;34m'npc'\u001b[0m\u001b[1;33m]\u001b[0m\u001b[1;33m.\u001b[0m\u001b[0mhead\u001b[0m\u001b[1;33m.\u001b[0m\u001b[0mdata\u001b[0m\u001b[1;33m.\u001b[0m\u001b[0mid\u001b[0m\u001b[1;33m)\u001b[0m\u001b[1;33m\u001b[0m\u001b[1;33m\u001b[0m\u001b[0m\n\u001b[1;32m----> 7\u001b[1;33m \u001b[0mprint\u001b[0m\u001b[1;33m(\u001b[0m\u001b[0mWorldMap\u001b[0m\u001b[1;33m.\u001b[0m\u001b[0mpoints\u001b[0m\u001b[1;33m[\u001b[0m\u001b[1;33m(\u001b[0m\u001b[1;36m101\u001b[0m\u001b[1;33m,\u001b[0m\u001b[1;36m101\u001b[0m\u001b[1;33m)\u001b[0m\u001b[1;33m]\u001b[0m\u001b[1;33m.\u001b[0m\u001b[0mpointCategories\u001b[0m\u001b[1;33m[\u001b[0m\u001b[1;34m'npc'\u001b[0m\u001b[1;33m]\u001b[0m\u001b[1;33m.\u001b[0m\u001b[0mhead\u001b[0m\u001b[1;33m.\u001b[0m\u001b[0mnext\u001b[0m\u001b[1;33m.\u001b[0m\u001b[0mdata\u001b[0m\u001b[1;33m.\u001b[0m\u001b[0mid\u001b[0m\u001b[1;33m)\u001b[0m\u001b[1;33m\u001b[0m\u001b[1;33m\u001b[0m\u001b[0m\n\u001b[0m\u001b[0;32m      8\u001b[0m \u001b[0mprint\u001b[0m\u001b[1;33m(\u001b[0m\u001b[0mWorldMap\u001b[0m\u001b[1;33m.\u001b[0m\u001b[0mpoints\u001b[0m\u001b[1;33m[\u001b[0m\u001b[1;33m(\u001b[0m\u001b[1;36m101\u001b[0m\u001b[1;33m,\u001b[0m\u001b[1;36m101\u001b[0m\u001b[1;33m)\u001b[0m\u001b[1;33m]\u001b[0m\u001b[1;33m.\u001b[0m\u001b[0mpointCategories\u001b[0m\u001b[1;33m[\u001b[0m\u001b[1;34m'npc'\u001b[0m\u001b[1;33m]\u001b[0m\u001b[1;33m.\u001b[0m\u001b[0mhead\u001b[0m\u001b[1;33m.\u001b[0m\u001b[0mnext\u001b[0m\u001b[1;33m.\u001b[0m\u001b[0mnext\u001b[0m\u001b[1;33m.\u001b[0m\u001b[0mdata\u001b[0m\u001b[1;33m.\u001b[0m\u001b[0mid\u001b[0m\u001b[1;33m)\u001b[0m\u001b[1;33m\u001b[0m\u001b[1;33m\u001b[0m\u001b[0m\n\u001b[0;32m      9\u001b[0m \u001b[0mprint\u001b[0m\u001b[1;33m(\u001b[0m\u001b[0mWorldMap\u001b[0m\u001b[1;33m.\u001b[0m\u001b[0mpoints\u001b[0m\u001b[1;33m[\u001b[0m\u001b[1;33m(\u001b[0m\u001b[1;36m101\u001b[0m\u001b[1;33m,\u001b[0m\u001b[1;36m101\u001b[0m\u001b[1;33m)\u001b[0m\u001b[1;33m]\u001b[0m\u001b[1;33m.\u001b[0m\u001b[0mpointCategories\u001b[0m\u001b[1;33m[\u001b[0m\u001b[1;34m'npc'\u001b[0m\u001b[1;33m]\u001b[0m\u001b[1;33m.\u001b[0m\u001b[0mhead\u001b[0m\u001b[1;33m.\u001b[0m\u001b[0mnext\u001b[0m\u001b[1;33m.\u001b[0m\u001b[0mnext\u001b[0m\u001b[1;33m.\u001b[0m\u001b[0mnext\u001b[0m\u001b[1;33m.\u001b[0m\u001b[0mdata\u001b[0m\u001b[1;33m.\u001b[0m\u001b[0mid\u001b[0m\u001b[1;33m)\u001b[0m\u001b[1;33m\u001b[0m\u001b[1;33m\u001b[0m\u001b[0m\n",
      "\u001b[1;31mAttributeError\u001b[0m: 'NoneType' object has no attribute 'data'"
     ]
    }
   ],
   "source": [
    "# print(WorldMap.points[(101,101)].pointCategories['pc'].head.data)\n",
    "# print(WorldMap.points[(101,101)].pointCategories['pc'].head.next)\n",
    "# print(WorldMap.points[(101,101)].pointCategories['pc'].head.next.next)\n",
    "\n",
    "print('***')\n",
    "print(WorldMap.points[(101,101)].pointCategories['npc'].head.data.id)\n",
    "print(WorldMap.points[(101,101)].pointCategories['npc'].head.next.data.id)\n",
    "print(WorldMap.points[(101,101)].pointCategories['npc'].head.next.next.data.id)\n",
    "print(WorldMap.points[(101,101)].pointCategories['npc'].head.next.next.next.data.id)"
   ]
  },
  {
   "cell_type": "code",
   "execution_count": null,
   "metadata": {},
   "outputs": [],
   "source": []
  },
  {
   "cell_type": "code",
   "execution_count": 101,
   "metadata": {
    "tags": []
   },
   "outputs": [
    {
     "output_type": "stream",
     "name": "stdout",
     "text": [
      "(101, 101)\n*pc\n<__main__.Person object at 0x000001F6C729B288>\n*npc\n<__main__.Person object at 0x000001F6C56AABC8>\n(100, 100)\n*pc\n*npc\n"
     ]
    }
   ],
   "source": [
    "for key in WorldMap.points.keys():\n",
    "    print(key)\n",
    "    print('*pc')\n",
    "    WorldMap.points[key].pointCategories['pc'].printList()\n",
    "    print('*npc')\n",
    "    WorldMap.points[key].pointCategories['npc'].printList()"
   ]
  },
  {
   "cell_type": "code",
   "execution_count": 357,
   "metadata": {},
   "outputs": [
    {
     "output_type": "stream",
     "name": "stdout",
     "text": [
      "pc\n"
     ]
    }
   ],
   "source": [
    "print(PointCategories.pc.name)"
   ]
  },
  {
   "cell_type": "code",
   "execution_count": null,
   "metadata": {},
   "outputs": [],
   "source": []
  }
 ],
 "metadata": {
  "kernelspec": {
   "display_name": "Python 3",
   "language": "python",
   "name": "python3"
  },
  "language_info": {
   "codemirror_mode": {
    "name": "ipython",
    "version": 3
   },
   "file_extension": ".py",
   "mimetype": "text/x-python",
   "name": "python",
   "nbconvert_exporter": "python",
   "pygments_lexer": "ipython3",
   "version": "3.7.6-final"
  }
 },
 "nbformat": 4,
 "nbformat_minor": 4
}