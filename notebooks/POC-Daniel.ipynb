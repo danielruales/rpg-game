{
 "cells": [
  {
   "cell_type": "code",
   "execution_count": 1,
   "source": [
    "from commons import *"
   ],
   "outputs": [],
   "metadata": {}
  },
  {
   "cell_type": "code",
   "execution_count": 2,
   "source": [
    "# Generate Map Size\r\n",
    "max_x = 200\r\n",
    "max_y = 200\r\n",
    "curr_points = {}\r\n",
    "WorldMap = Map(max_x, max_y, curr_points)"
   ],
   "outputs": [
    {
     "output_type": "stream",
     "name": "stdout",
     "text": [
      "***self.points {}\n"
     ]
    }
   ],
   "metadata": {}
  },
  {
   "cell_type": "code",
   "execution_count": 3,
   "source": [
    "# Initialize PersonIds object\r\n",
    "# curr_pc_Ids = {}\r\n",
    "# curr_npc_Ids = {}\r\n",
    "# curr_item_Ids = {}\r\n",
    "# curr_path_Ids = {}\r\n",
    "# curr_obstacle_Ids = {}\r\n",
    "\r\n",
    "# Object holding all ids with separate categories\r\n",
    "ids = Ids()\r\n",
    "\r\n",
    "# Test ids object is empty\r\n",
    "ids.npc_Ids.ids"
   ],
   "outputs": [],
   "metadata": {}
  },
  {
   "cell_type": "code",
   "execution_count": 4,
   "source": [
    "# Populate Map with Enemies\r\n",
    "\r\n",
    "# Create a Skeleton in point(101,101)\r\n",
    "starting_pos = (101,101)\r\n",
    "pointCategory = PointCategories.npc\r\n",
    "name = 'Skelly'\r\n",
    "skeleton = create_default_person(name, starting_pos, 'skeleton', WorldMap, pointCategory, ids)\r\n",
    "skeleton.curr_pos.point"
   ],
   "outputs": [
    {
     "output_type": "stream",
     "name": "stdout",
     "text": [
      "PointCategories.npc\n",
      "***mapPoint <commons.PointCategoriesObj object at 0x000001C710F8BDC8>\n",
      "***add_to_points (101, 101) npc 0\n"
     ]
    },
    {
     "output_type": "execute_result",
     "data": {
      "text/plain": [
       "(101, 101)"
      ]
     },
     "metadata": {},
     "execution_count": 4
    }
   ],
   "metadata": {}
  },
  {
   "cell_type": "code",
   "execution_count": 5,
   "source": [
    "# Create Main Character\r\n",
    "starting_pos = (100,100)\r\n",
    "pointCategory = PointCategories.pc\r\n",
    "name = 'Danny'\r\n",
    "main_char = create_default_person(name, starting_pos, 'main_character', WorldMap, pointCategory, ids)\r\n",
    "main_char.curr_pos.point"
   ],
   "outputs": [
    {
     "output_type": "stream",
     "name": "stdout",
     "text": [
      "PointCategories.pc\n",
      "***mapPoint <commons.PointCategoriesObj object at 0x000001C710DC9C48>\n",
      "***add_to_points (100, 100) pc 0\n"
     ]
    },
    {
     "output_type": "execute_result",
     "data": {
      "text/plain": [
       "(100, 100)"
      ]
     },
     "metadata": {},
     "execution_count": 5
    }
   ],
   "metadata": {}
  },
  {
   "cell_type": "code",
   "execution_count": 6,
   "source": [
    "# Test Move Character to Skeleton\r\n",
    "movement = (1,1) # Can move in 8 ways, diagonally (4) and up/down & left/right (4)\r\n",
    "is_encounter = main_char.move_spaces(movement, WorldMap)\r\n",
    "print(main_char.curr_pos.point)\r\n",
    "if is_encounter:\r\n",
    "    print('ENCOUNTER')"
   ],
   "outputs": [
    {
     "output_type": "stream",
     "name": "stdout",
     "text": [
      "++\n",
      "***add_to_points (101, 101) pc 0\n",
      "(101, 101)\n",
      "ENCOUNTER\n"
     ]
    }
   ],
   "metadata": {}
  },
  {
   "cell_type": "code",
   "execution_count": 7,
   "source": [
    "print('***WorldMap printed below')\r\n",
    "\r\n",
    "# Main character and skeleton are in the same point, and is an encounter\r\n",
    "for key in WorldMap.points.keys():\r\n",
    "    print(key)\r\n",
    "    print('*pc')\r\n",
    "    WorldMap.points[key].pointCategories['pc'].printList()\r\n",
    "    print('*npc')\r\n",
    "    WorldMap.points[key].pointCategories['npc'].printList()"
   ],
   "outputs": [
    {
     "output_type": "stream",
     "name": "stdout",
     "text": [
      "***WorldMap printed below\n",
      "(101, 101)\n",
      "*pc\n",
      "<commons.Person object at 0x000001C710F89308>\n",
      "*npc\n",
      "<commons.Person object at 0x000001C710F8BC48>\n"
     ]
    }
   ],
   "metadata": {
    "tags": []
   }
  },
  {
   "cell_type": "code",
   "execution_count": 8,
   "source": [
    "# Test removing the skeleton due to death\r\n",
    "skeleton\r\n",
    "skeleton.kill_person(WorldMap)\r\n",
    "\r\n",
    "print('***WorldMap printed below')\r\n",
    "# Skeleton is removed from the WorldMap successfully\r\n",
    "for key in WorldMap.points.keys():\r\n",
    "    print(key)\r\n",
    "    print('*pc')\r\n",
    "    WorldMap.points[key].pointCategories['pc'].printList()\r\n",
    "    print('*npc')\r\n",
    "    WorldMap.points[key].pointCategories['npc'].printList()"
   ],
   "outputs": [
    {
     "output_type": "stream",
     "name": "stdout",
     "text": [
      "++\n",
      "***WorldMap printed below\n",
      "(101, 101)\n",
      "*pc\n",
      "<commons.Person object at 0x000001C710F89308>\n",
      "*npc\n"
     ]
    }
   ],
   "metadata": {}
  },
  {
   "cell_type": "code",
   "execution_count": 9,
   "source": [
    "# Test moving the character again, but this time no encounter\r\n",
    "movement = (1,1) # Can move in 8 ways, diagonally (4) and up/down & left/right (4)\r\n",
    "is_encounter = main_char.move_spaces(movement, WorldMap)\r\n",
    "print(main_char.curr_pos.point)\r\n",
    "if is_encounter:\r\n",
    "    print('ENCOUNTER')\r\n",
    "else:\r\n",
    "    print('NO ENCOUNTER')\r\n",
    "\r\n",
    "print('***WorldMap printed below')\r\n",
    "\r\n",
    "# Main character moves in the WorldMap successfully\r\n",
    "for key in WorldMap.points.keys():\r\n",
    "    print(key)\r\n",
    "    print('*pc')\r\n",
    "    WorldMap.points[key].pointCategories['pc'].printList()\r\n",
    "    print('*npc')\r\n",
    "    WorldMap.points[key].pointCategories['npc'].printList()"
   ],
   "outputs": [
    {
     "output_type": "stream",
     "name": "stdout",
     "text": [
      "++\n",
      "***mapPoint <commons.PointCategoriesObj object at 0x000001C710F72208>\n",
      "***add_to_points (102, 102) pc 0\n",
      "(102, 102)\n",
      "NO ENCOUNTER\n",
      "***WorldMap printed below\n",
      "(102, 102)\n",
      "*pc\n",
      "<commons.Person object at 0x000001C710F89308>\n",
      "*npc\n"
     ]
    }
   ],
   "metadata": {}
  },
  {
   "cell_type": "code",
   "execution_count": 10,
   "source": [
    "# Test moving the character again, but this time with negative numbers\r\n",
    "movement = (-2,-2) # Can move in 8 ways, diagonally (4) and up/down & left/right (4)\r\n",
    "is_encounter = main_char.move_spaces(movement, WorldMap)\r\n",
    "print(main_char.curr_pos.point)\r\n",
    "if is_encounter:\r\n",
    "    print('ENCOUNTER')\r\n",
    "else:\r\n",
    "    print('NO ENCOUNTER')\r\n",
    "\r\n",
    "print('***WorldMap printed below')\r\n",
    "\r\n",
    "# Main character moves in the WorldMap successfully\r\n",
    "for key in WorldMap.points.keys():\r\n",
    "    print(key)\r\n",
    "    print('*pc')\r\n",
    "    WorldMap.points[key].pointCategories['pc'].printList()\r\n",
    "    print('*npc')\r\n",
    "    WorldMap.points[key].pointCategories['npc'].printList()"
   ],
   "outputs": [
    {
     "output_type": "stream",
     "name": "stdout",
     "text": [
      "++\n",
      "***mapPoint <commons.PointCategoriesObj object at 0x000001C710F8BE88>\n",
      "***add_to_points (100, 100) pc 0\n",
      "(100, 100)\n",
      "NO ENCOUNTER\n",
      "***WorldMap printed below\n",
      "(100, 100)\n",
      "*pc\n",
      "<commons.Person object at 0x000001C710F89308>\n",
      "*npc\n"
     ]
    }
   ],
   "metadata": {}
  },
  {
   "cell_type": "code",
   "execution_count": 11,
   "source": [
    "# Test multiple npcs on a space for an encounter\r\n",
    "name = 'skeleton1'\r\n",
    "starting_pos = (101,101)\r\n",
    "pointCategory = PointCategories.npc\r\n",
    "skeleton1 = create_default_person(name, starting_pos, 'skeleton', WorldMap, pointCategory, ids)\r\n",
    "name = 'skeleton2'\r\n",
    "skeleton2 = create_default_person(name, starting_pos, 'skeleton', WorldMap, pointCategory, ids)\r\n",
    "\r\n",
    "for key in WorldMap.points.keys():\r\n",
    "    print(key)\r\n",
    "    print('*pc')\r\n",
    "    WorldMap.points[key].pointCategories['pc'].printList()\r\n",
    "    print('*npc')\r\n",
    "    WorldMap.points[key].pointCategories['npc'].printList()"
   ],
   "outputs": [
    {
     "output_type": "stream",
     "name": "stdout",
     "text": [
      "PointCategories.npc\n",
      "***mapPoint <commons.PointCategoriesObj object at 0x000001C712106B88>\n",
      "***add_to_points (101, 101) npc 1\n",
      "PointCategories.npc\n",
      "***add_to_points (101, 101) npc 2\n",
      "(100, 100)\n",
      "*pc\n",
      "<commons.Person object at 0x000001C710F89308>\n",
      "*npc\n",
      "(101, 101)\n",
      "*pc\n",
      "*npc\n",
      "<commons.Person object at 0x000001C711F1A248>\n",
      "<commons.Person object at 0x000001C712A47D48>\n"
     ]
    }
   ],
   "metadata": {}
  },
  {
   "cell_type": "code",
   "execution_count": 12,
   "source": [
    "# Test moving the character again, but this time multiple npcs in encounter\r\n",
    "movement = (1,1) # Can move in 8 ways, diagonally (4) and up/down & left/right (4)\r\n",
    "is_encounter = main_char.move_spaces(movement, WorldMap)\r\n",
    "print(main_char.curr_pos.point)\r\n",
    "if is_encounter:\r\n",
    "    print('ENCOUNTER')\r\n",
    "else:\r\n",
    "    print('NO ENCOUNTER')\r\n",
    "\r\n",
    "print('***WorldMap printed below')\r\n",
    "\r\n",
    "# Main character moves in the WorldMap successfully\r\n",
    "for key in WorldMap.points.keys():\r\n",
    "    print(key)\r\n",
    "    print('*pc')\r\n",
    "    WorldMap.points[key].pointCategories['pc'].printList()\r\n",
    "    print('*npc')\r\n",
    "    WorldMap.points[key].pointCategories['npc'].printList()"
   ],
   "outputs": [
    {
     "output_type": "stream",
     "name": "stdout",
     "text": [
      "++\n",
      "***add_to_points (101, 101) pc 0\n",
      "(101, 101)\n",
      "ENCOUNTER\n",
      "***WorldMap printed below\n",
      "(101, 101)\n",
      "*pc\n",
      "<commons.Person object at 0x000001C710F89308>\n",
      "*npc\n",
      "<commons.Person object at 0x000001C711F1A248>\n",
      "<commons.Person object at 0x000001C712A47D48>\n"
     ]
    }
   ],
   "metadata": {}
  },
  {
   "cell_type": "code",
   "execution_count": null,
   "source": [],
   "outputs": [],
   "metadata": {}
  }
 ],
 "metadata": {
  "kernelspec": {
   "name": "python3",
   "display_name": "Python 3.7.6 64-bit ('base': conda)"
  },
  "language_info": {
   "codemirror_mode": {
    "name": "ipython",
    "version": 3
   },
   "file_extension": ".py",
   "mimetype": "text/x-python",
   "name": "python",
   "nbconvert_exporter": "python",
   "pygments_lexer": "ipython3",
   "version": "3.7.6"
  },
  "interpreter": {
   "hash": "b3ba2566441a7c06988d0923437866b63cedc61552a5af99d1f4fb67d367b25f"
  }
 },
 "nbformat": 4,
 "nbformat_minor": 4
}