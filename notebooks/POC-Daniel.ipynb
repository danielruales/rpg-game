{
 "cells": [
  {
   "cell_type": "code",
   "execution_count": 1,
   "source": [
    "from commons import *"
   ],
   "outputs": [],
   "metadata": {}
  },
  {
   "cell_type": "code",
   "execution_count": 2,
   "source": [
    "# Generate Map Size\r\n",
    "def generate_200_x_200_map():\r\n",
    "    max_x = 200\r\n",
    "    max_y = 200\r\n",
    "    curr_points = {}\r\n",
    "    currMap = Map(max_x, max_y, curr_points)\r\n",
    "    return currMap\r\n",
    "\r\n",
    "# Initialize Ids Object\r\n",
    "def generateIds():\r\n",
    "    # curr_pc_Ids = {}\r\n",
    "    # curr_npc_Ids = {}\r\n",
    "    # curr_item_Ids = {}\r\n",
    "    # curr_path_Ids = {}\r\n",
    "    # curr_obstacle_Ids = {}\r\n",
    "\r\n",
    "    # Object holding all ids with separate categories\r\n",
    "    ids = Ids()\r\n",
    "    return ids\r\n",
    "\r\n",
    "def generate_NPC_and_PC():\r\n",
    "    # Populate Map with Enemy\r\n",
    "    starting_pos = (101,101)\r\n",
    "    pointCategory = PointCategories.npc\r\n",
    "    name = 'Skelly'\r\n",
    "    # Create a Skeleton in point(101,101)\r\n",
    "    skeleton = create_default_npc(name, starting_pos, 'skeleton', WorldMap, pointCategory, ids)\r\n",
    "\r\n",
    "    # Create Main Character\r\n",
    "    starting_pos = (100,100)\r\n",
    "    pointCategory = PointCategories.pc\r\n",
    "    name = 'Danny'\r\n",
    "    main_char = create_default_pc(name, starting_pos, 'main_character', WorldMap, pointCategory, ids)\r\n",
    "    return skeleton, main_char\r\n"
   ],
   "outputs": [],
   "metadata": {}
  },
  {
   "cell_type": "code",
   "execution_count": 3,
   "source": [
    "WorldMap = generate_200_x_200_map()\r\n",
    "ids = generateIds()\r\n",
    "# Test ids object is empty\r\n",
    "print('*ids:', ids.npc_Ids.ids)\r\n",
    "\r\n",
    "skeleton, main_char = generate_NPC_and_PC()\r\n",
    "print('*skeleton.curr_pos.point', skeleton.curr_pos.point)\r\n",
    "print('*main_char.curr_pos.point', main_char.curr_pos.point)"
   ],
   "outputs": [
    {
     "output_type": "stream",
     "name": "stdout",
     "text": [
      "***self.points {}\n",
      "*ids: None\n",
      "PointCategories.npc\n",
      "***mapPoint <commons.PointCategoriesObj object at 0x000001EE7F396688>\n",
      "***add_to_points (101, 101) npc 0\n",
      "PointCategories.pc\n",
      "***mapPoint <commons.PointCategoriesObj object at 0x000001EE7F396B08>\n",
      "***add_to_points (100, 100) pc 0\n",
      "*skeleton.curr_pos.point (101, 101)\n",
      "*main_char.curr_pos.point (100, 100)\n"
     ]
    }
   ],
   "metadata": {}
  },
  {
   "cell_type": "code",
   "execution_count": 6,
   "source": [
    "# Test Move Character to Skeleton\r\n",
    "movement = (1,1) # Can move in 8 ways, diagonally (4) and up/down & left/right (4)\r\n",
    "is_encounter = main_char.move_spaces(movement, WorldMap)\r\n",
    "print(main_char.curr_pos.point)\r\n",
    "if is_encounter:\r\n",
    "    print('ENCOUNTER')"
   ],
   "outputs": [
    {
     "output_type": "stream",
     "name": "stdout",
     "text": [
      "++\n",
      "***self.encounter.encounterCategories <commons.PointCategoriesObj object at 0x000001D864FF2BC8>\n",
      "iterating: pc <commons.LinkedList object at 0x000001D864FF2C08>\n",
      "iterating: npc <commons.LinkedList object at 0x000001D864FF2C48>\n",
      "iterating: item <commons.LinkedList object at 0x000001D864FF2C88>\n",
      "iterating: path <commons.LinkedList object at 0x000001D864FF2CC8>\n",
      "iterating: obstacle <commons.LinkedList object at 0x000001D864FF2D08>\n",
      "***add_to_points (101, 101) pc 0\n",
      "(101, 101)\n",
      "ENCOUNTER\n"
     ]
    }
   ],
   "metadata": {}
  },
  {
   "cell_type": "code",
   "execution_count": null,
   "source": [
    "print('***WorldMap printed below')\r\n",
    "\r\n",
    "# Main character and skeleton are in the same point, and is an encounter\r\n",
    "for key in WorldMap.points.keys():\r\n",
    "    print(key)\r\n",
    "    print('*pc')\r\n",
    "    WorldMap.points[key].pointCategories['pc'].printList()\r\n",
    "    print('*npc')\r\n",
    "    WorldMap.points[key].pointCategories['npc'].printList()"
   ],
   "outputs": [],
   "metadata": {
    "tags": []
   }
  },
  {
   "cell_type": "code",
   "execution_count": null,
   "source": [
    "# Test removing the skeleton due to death\r\n",
    "skeleton\r\n",
    "skeleton.kill_person(WorldMap)\r\n",
    "\r\n",
    "print('***WorldMap printed below')\r\n",
    "# Skeleton is removed from the WorldMap successfully\r\n",
    "for key in WorldMap.points.keys():\r\n",
    "    print(key)\r\n",
    "    print('*pc')\r\n",
    "    WorldMap.points[key].pointCategories['pc'].printList()\r\n",
    "    print('*npc')\r\n",
    "    WorldMap.points[key].pointCategories['npc'].printList()"
   ],
   "outputs": [],
   "metadata": {}
  },
  {
   "cell_type": "code",
   "execution_count": null,
   "source": [
    "# Test moving the character again, but this time no encounter\r\n",
    "movement = (1,1) # Can move in 8 ways, diagonally (4) and up/down & left/right (4)\r\n",
    "is_encounter = main_char.move_spaces(movement, WorldMap)\r\n",
    "print(main_char.curr_pos.point)\r\n",
    "if is_encounter:\r\n",
    "    print('ENCOUNTER')\r\n",
    "else:\r\n",
    "    print('NO ENCOUNTER')\r\n",
    "\r\n",
    "print('***WorldMap printed below')\r\n",
    "\r\n",
    "# Main character moves in the WorldMap successfully\r\n",
    "for key in WorldMap.points.keys():\r\n",
    "    print(key)\r\n",
    "    print('*pc')\r\n",
    "    WorldMap.points[key].pointCategories['pc'].printList()\r\n",
    "    print('*npc')\r\n",
    "    WorldMap.points[key].pointCategories['npc'].printList()"
   ],
   "outputs": [],
   "metadata": {}
  },
  {
   "cell_type": "code",
   "execution_count": null,
   "source": [
    "# Test moving the character again, but this time with negative numbers\r\n",
    "movement = (-2,-2) # Can move in 8 ways, diagonally (4) and up/down & left/right (4)\r\n",
    "is_encounter = main_char.move_spaces(movement, WorldMap)\r\n",
    "print(main_char.curr_pos.point)\r\n",
    "if is_encounter:\r\n",
    "    print('ENCOUNTER')\r\n",
    "else:\r\n",
    "    print('NO ENCOUNTER')\r\n",
    "\r\n",
    "print('***WorldMap printed below')\r\n",
    "\r\n",
    "# Main character moves in the WorldMap successfully\r\n",
    "for key in WorldMap.points.keys():\r\n",
    "    print(key)\r\n",
    "    print('*pc')\r\n",
    "    WorldMap.points[key].pointCategories['pc'].printList()\r\n",
    "    print('*npc')\r\n",
    "    WorldMap.points[key].pointCategories['npc'].printList()"
   ],
   "outputs": [],
   "metadata": {}
  },
  {
   "cell_type": "code",
   "execution_count": null,
   "source": [
    "# Test multiple npcs on a space for an encounter\r\n",
    "name = 'skeleton1'\r\n",
    "starting_pos = (101,101)\r\n",
    "pointCategory = PointCategories.npc\r\n",
    "skeleton1 = create_default_npc(name, starting_pos, 'skeleton', WorldMap, pointCategory, ids)\r\n",
    "name = 'skeleton2'\r\n",
    "skeleton2 = create_default_npc(name, starting_pos, 'skeleton', WorldMap, pointCategory, ids)\r\n",
    "\r\n",
    "for key in WorldMap.points.keys():\r\n",
    "    print(key)\r\n",
    "    print('*pc')\r\n",
    "    WorldMap.points[key].pointCategories['pc'].printList()\r\n",
    "    print('*npc')\r\n",
    "    WorldMap.points[key].pointCategories['npc'].printList()"
   ],
   "outputs": [],
   "metadata": {}
  },
  {
   "cell_type": "code",
   "execution_count": null,
   "source": [
    "# Test moving the character again, but this time multiple npcs in encounter\r\n",
    "movement = (1,1) # Can move in 8 ways, diagonally (4) and up/down & left/right (4)\r\n",
    "is_encounter = main_char.move_spaces(movement, WorldMap)\r\n",
    "print(main_char.curr_pos.point)\r\n",
    "if is_encounter:\r\n",
    "    print('ENCOUNTER')\r\n",
    "else:\r\n",
    "    print('NO ENCOUNTER')\r\n",
    "\r\n",
    "print('***WorldMap printed below')\r\n",
    "\r\n",
    "# Main character moves in the WorldMap successfully\r\n",
    "for key in WorldMap.points.keys():\r\n",
    "    print(key)\r\n",
    "    print('*pc')\r\n",
    "    WorldMap.points[key].pointCategories['pc'].printList()\r\n",
    "    print('*npc')\r\n",
    "    WorldMap.points[key].pointCategories['npc'].printList()"
   ],
   "outputs": [],
   "metadata": {}
  },
  {
   "cell_type": "code",
   "execution_count": null,
   "source": [],
   "outputs": [],
   "metadata": {}
  }
 ],
 "metadata": {
  "kernelspec": {
   "name": "python3",
   "display_name": "Python 3.7.6 64-bit ('base': conda)"
  },
  "language_info": {
   "codemirror_mode": {
    "name": "ipython",
    "version": 3
   },
   "file_extension": ".py",
   "mimetype": "text/x-python",
   "name": "python",
   "nbconvert_exporter": "python",
   "pygments_lexer": "ipython3",
   "version": "3.7.6"
  },
  "interpreter": {
   "hash": "b3ba2566441a7c06988d0923437866b63cedc61552a5af99d1f4fb67d367b25f"
  }
 },
 "nbformat": 4,
 "nbformat_minor": 4
}